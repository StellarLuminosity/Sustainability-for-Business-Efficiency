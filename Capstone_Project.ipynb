{
  "metadata": {
    "kernelspec": {
      "language": "python",
      "display_name": "Python 3",
      "name": "python3"
    },
    "language_info": {
      "name": "python",
      "version": "3.11.11",
      "mimetype": "text/x-python",
      "codemirror_mode": {
        "name": "ipython",
        "version": 3
      },
      "pygments_lexer": "ipython3",
      "nbconvert_exporter": "python",
      "file_extension": ".py"
    },
    "kaggle": {
      "accelerator": "none",
      "dataSources": [
        {
          "sourceId": 6126523,
          "sourceType": "datasetVersion",
          "datasetId": 3512210
        }
      ],
      "dockerImageVersionId": 31012,
      "isInternetEnabled": true,
      "language": "python",
      "sourceType": "notebook",
      "isGpuEnabled": false
    },
    "colab": {
      "provenance": [],
      "collapsed_sections": [
        "vgPp2fnyCzL0",
        "D1f3kBicC-3K",
        "FrwPrhQ8j5bg",
        "gKLX4_FKRjB7",
        "GMhINiiMUmu9",
        "vdL6BtvDivRY",
        "avGtS33t8uue",
        "05HpBExnJs7t"
      ],
      "include_colab_link": true
    }
  },
  "nbformat_minor": 0,
  "nbformat": 4,
  "cells": [
    {
      "cell_type": "markdown",
      "metadata": {
        "id": "view-in-github",
        "colab_type": "text"
      },
      "source": [
        "<a href=\"https://colab.research.google.com/github/StellarLuminosity/Sustainability-for-Business-Efficiency/blob/main/Capstone_Project.ipynb\" target=\"_parent\"><img src=\"https://colab.research.google.com/assets/colab-badge.svg\" alt=\"Open In Colab\"/></a>"
      ]
    },
    {
      "cell_type": "markdown",
      "source": [
        "# GenAI Capstone – Sustainability Operations for Business Efficiency Advisor\n",
        "**Predicting the impact of operational inefficiencies and generating actionable, SDG-aligned solutions**\n",
        "\n",
        "## Overview\n",
        "This notebook builds a generative AI agent workflow that:\n",
        "- Identifies and classifies a business inefficiencies (Inventory Waste or Energy Inefficiency)\n",
        "- Stores and retrieves relevant cases using embeddings and ChromaDB\n",
        "- Estimates cost of inaction for the business inefficiency\n",
        "- Suggests SDG-aligned, actionable solutions that will save business costs and align with sustainability practices\n",
        "- Generates a business-ready report\n"
      ],
      "metadata": {
        "id": "oEbFnFqOJs7V"
      }
    },
    {
      "cell_type": "markdown",
      "source": [
        "## -- Setup --\n",
        "Install required packages and import libraries."
      ],
      "metadata": {
        "id": "P7QDtwuUJs7Y"
      }
    },
    {
      "cell_type": "code",
      "source": [
        "!pip install langchain-community langchain pdfplumber langgraph langchainhub chromadb openai langchain-google-genai google-generativeai tqdm kagglehub[pandas-datasets] sentence-transformers --quiet"
      ],
      "metadata": {
        "trusted": true,
        "execution": {
          "iopub.status.busy": "2025-04-16T01:03:17.759814Z",
          "iopub.execute_input": "2025-04-16T01:03:17.760126Z",
          "iopub.status.idle": "2025-04-16T01:04:01.254419Z",
          "shell.execute_reply.started": "2025-04-16T01:03:17.760103Z",
          "shell.execute_reply": "2025-04-16T01:04:01.25308Z"
        },
        "id": "qc6sOhXpJs7Y",
        "collapsed": true
      },
      "outputs": [],
      "execution_count": null
    },
    {
      "cell_type": "code",
      "source": [
        "# Imports\n",
        "\n",
        "import os\n",
        "import re\n",
        "import json\n",
        "import uuid\n",
        "import shutil\n",
        "import requests\n",
        "import pdfplumber\n",
        "import numpy as np\n",
        "import pandas as pd\n",
        "import matplotlib.pyplot as plt\n",
        "import seaborn as sns\n",
        "import chromadb\n",
        "import kagglehub\n",
        "from google import genai\n",
        "from google.genai import types\n",
        "from bs4 import BeautifulSoup\n",
        "from chromadb.config import Settings\n",
        "from chromadb import Documents, EmbeddingFunction, Embeddings\n",
        "from google.genai.types import EmbedContentConfig\n",
        "from IPython.display import HTML, Markdown, display\n",
        "from langchain_google_genai import GoogleGenerativeAIEmbeddings\n",
        "from typing import Optional, List, Literal, TypedDict, Dict, Any\n",
        "from langgraph.graph import StateGraph, START, END\n",
        "from langchain_google_genai import ChatGoogleGenerativeAI\n",
        "from langchain.text_splitter import CharacterTextSplitter\n",
        "from langchain.schema import Document\n",
        "from kagglehub import KaggleDatasetAdapter\n",
        "from langchain.schema import Document\n",
        "from langgraph.prebuilt import ToolNode\n",
        "from pydantic import BaseModel, Field\n",
        "from google.api_core import retry\n",
        "from tqdm import tqdm\n",
        "\n",
        "from langchain.vectorstores import Chroma\n",
        "from langchain.embeddings import HuggingFaceEmbeddings\n",
        "from langchain_core.messages import HumanMessage\n",
        "from langchain_core.runnables import RunnableConfig\n",
        "from langchain.prompts import PromptTemplate\n",
        "from langchain_google_genai import ChatGoogleGenerativeAI\n",
        "\n",
        "from typing import TypedDict, List, Optional, Literal\n",
        "from langchain_core.documents import Document"
      ],
      "metadata": {
        "trusted": true,
        "scrolled": true,
        "execution": {
          "iopub.status.busy": "2025-04-16T01:04:08.153521Z",
          "iopub.execute_input": "2025-04-16T01:04:08.154289Z",
          "iopub.status.idle": "2025-04-16T01:04:08.163526Z",
          "shell.execute_reply.started": "2025-04-16T01:04:08.154254Z",
          "shell.execute_reply": "2025-04-16T01:04:08.161605Z"
        },
        "id": "hg6YscouJs7a"
      },
      "outputs": [],
      "execution_count": null
    },
    {
      "cell_type": "markdown",
      "source": [
        "## -- API and Gemini Setup --"
      ],
      "metadata": {
        "id": "vTITqcucEEJz"
      }
    },
    {
      "cell_type": "code",
      "source": [
        "# wraps the Gemini model’s generate_content method with automatic retry logic if it hits temporary errors — like rate limits or backend hiccups\n",
        "is_retriable = lambda e: (isinstance(e, genai.errors.APIError) and e.code in {429, 503})\n",
        "\n",
        "genai.models.Models.generate_content = retry.Retry(\n",
        "    predicate=is_retriable)(genai.models.Models.generate_content)"
      ],
      "metadata": {
        "trusted": true,
        "execution": {
          "iopub.status.busy": "2025-04-16T01:04:31.646972Z",
          "iopub.execute_input": "2025-04-16T01:04:31.647343Z",
          "iopub.status.idle": "2025-04-16T01:04:31.654002Z",
          "shell.execute_reply.started": "2025-04-16T01:04:31.647317Z",
          "shell.execute_reply": "2025-04-16T01:04:31.652682Z"
        },
        "id": "YE-LCuuPJs7b"
      },
      "outputs": [],
      "execution_count": null
    },
    {
      "cell_type": "code",
      "source": [
        "from google.colab import userdata\n",
        "\n",
        "GOOGLE_API_KEY = userdata.get('GOOGLE_API_KEY')\n",
        "os.environ[\"GOOGLE_API_KEY\"] = GOOGLE_API_KEY\n",
        "client = genai.Client(api_key=GOOGLE_API_KEY)"
      ],
      "metadata": {
        "id": "42eRkDoxrZIN"
      },
      "execution_count": null,
      "outputs": []
    },
    {
      "cell_type": "markdown",
      "source": [
        "## -- Chroma DB Setup --"
      ],
      "metadata": {
        "id": "rGRtnV6aJs7i"
      }
    },
    {
      "cell_type": "code",
      "source": [
        "class GeminiEmbeddingFunction(EmbeddingFunction):\n",
        "    def __init__(self, client, document_mode=True):\n",
        "        self.client = client\n",
        "        self.document_mode = document_mode\n",
        "\n",
        "    @retry.Retry(predicate=is_retriable)\n",
        "    def __call__(self, input: List[str]) -> List[List[float]]:\n",
        "        task_type = \"retrieval_document\" if self.document_mode else \"retrieval_query\"\n",
        "        response = self.client.models.embed_content(\n",
        "            model=\"models/text-embedding-004\",\n",
        "            contents=input,\n",
        "            config=EmbedContentConfig(task_type=task_type),\n",
        "        )\n",
        "        return [e.values for e in response.embeddings]"
      ],
      "metadata": {
        "trusted": true,
        "execution": {
          "iopub.status.busy": "2025-04-16T01:04:45.032698Z",
          "iopub.execute_input": "2025-04-16T01:04:45.033118Z",
          "iopub.status.idle": "2025-04-16T01:04:45.041315Z",
          "shell.execute_reply.started": "2025-04-16T01:04:45.03309Z",
          "shell.execute_reply": "2025-04-16T01:04:45.039867Z"
        },
        "id": "t5fMqjFDJs7j"
      },
      "outputs": [],
      "execution_count": null
    },
    {
      "cell_type": "code",
      "source": [
        "# initialize ChromaDB In-Memory Client\n",
        "chroma_client = chromadb.Client()"
      ],
      "metadata": {
        "trusted": true,
        "execution": {
          "iopub.status.busy": "2025-04-16T01:04:48.247211Z",
          "iopub.execute_input": "2025-04-16T01:04:48.247569Z",
          "iopub.status.idle": "2025-04-16T01:04:48.548029Z",
          "shell.execute_reply.started": "2025-04-16T01:04:48.247545Z",
          "shell.execute_reply": "2025-04-16T01:04:48.546808Z"
        },
        "id": "phSl9vR-Js7j"
      },
      "outputs": [],
      "execution_count": null
    },
    {
      "cell_type": "code",
      "source": [
        "# Instantiate the embedding function\n",
        "embed_fn = GeminiEmbeddingFunction(client=client, document_mode=True)\n",
        "\n",
        "# Create collections (in-memory, no disk persistence)\n",
        "inventory_collection = chroma_client.get_or_create_collection(\n",
        "    name=\"inventory_cases\",\n",
        "    embedding_function=embed_fn,\n",
        ")\n",
        "\n",
        "energy_collection = chroma_client.get_or_create_collection(\n",
        "    name=\"energy_cases\",\n",
        "    embedding_function=embed_fn,\n",
        ")"
      ],
      "metadata": {
        "trusted": true,
        "execution": {
          "iopub.status.busy": "2025-04-16T01:04:52.559442Z",
          "iopub.execute_input": "2025-04-16T01:04:52.559847Z",
          "iopub.status.idle": "2025-04-16T01:04:52.570646Z",
          "shell.execute_reply.started": "2025-04-16T01:04:52.559813Z",
          "shell.execute_reply": "2025-04-16T01:04:52.56948Z"
        },
        "id": "dI94P86xJs7j"
      },
      "outputs": [],
      "execution_count": null
    },
    {
      "cell_type": "markdown",
      "source": [
        "## -- Adding Data to ChromaDB --"
      ],
      "metadata": {
        "id": "_UMWO2W7Js7j"
      }
    },
    {
      "cell_type": "code",
      "source": [
        "# Metadata for each uploaded document\n",
        "# {\n",
        "#   \"purpose\": [\"case_study\", \"cost_estimates\", \"solution\", \"mixed\"],\n",
        "#   \"domain\": [\"inventory\", \"energy\"]\n",
        "# }\n"
      ],
      "metadata": {
        "id": "iYTPWz5gNuCt"
      },
      "execution_count": null,
      "outputs": []
    },
    {
      "cell_type": "markdown",
      "source": [
        "### --- Inventory Case Studies ---"
      ],
      "metadata": {
        "id": "vgPp2fnyCzL0"
      }
    },
    {
      "cell_type": "code",
      "source": [
        "url = \"https://www.ccmonet.ai/blog-posts-new/inventory-management-case-studies-real-success-stories\"\n",
        "response = requests.get(url)\n",
        "response.encoding = 'utf-8'\n",
        "soup = BeautifulSoup(response.text, \"html.parser\")\n",
        "content_tags = soup.find_all(['p', 'li', 'h1', 'h2', 'h3', 'h4', 'h5', 'h6'])\n",
        "\n",
        "full_text = '\\n'.join([tag.get_text(strip=True) for tag in content_tags])\n",
        "full_text = full_text[2733:] # start only from the relevant index"
      ],
      "metadata": {
        "id": "_Or29RJTST0B"
      },
      "execution_count": null,
      "outputs": []
    },
    {
      "cell_type": "code",
      "source": [
        "# List of headers\n",
        "section_headers = [\n",
        "    \"Case Study 1: Amazon's Revolutionary Inventory System\",\n",
        "    \"Case Study 2: Walmart's Supply Chain Mastery\",\n",
        "    \"Case Study 3: Zara's Fast Fashion Inventory Approach\",\n",
        "    \"Case Study 4: Coca-Cola's Global Distribution Network\",\n",
        "    \"Emerging Trends in Inventory Management\",\n",
        "    \"Key Takeaways from Inventory Management Case Studies\",\n",
        "    \"Future of Inventory Management: Predictions and Insights\",\n",
        "    \"Conclusion: Learning from Success Stories\",\n",
        "    \"FAQ\"\n",
        "]\n",
        "\n",
        "# Create a header regex pattern\n",
        "escaped_headers = [re.escape(header) for header in section_headers]\n",
        "pattern = f\"({'|'.join(escaped_headers)})\"\n",
        "\n",
        "# Split by header\n",
        "parts = re.split(pattern, full_text)\n",
        "\n",
        "# Combine each header with its following content\n",
        "chunks = []\n",
        "for i in range(1, len(parts), 2):  # step by 2 to pair header with body\n",
        "    header = parts[i].strip()\n",
        "    body = parts[i + 1].strip() if i + 1 < len(parts) else \"\"\n",
        "    chunk = f\"{header}\\n{body}\"\n",
        "    chunks.append(chunk)\n",
        "\n",
        "# Print the chunks\n",
        "# for i, chunk in enumerate(chunks):\n",
        "#     print(f\"\\n\\nChunk {i}:\\n{chunk}\")"
      ],
      "metadata": {
        "id": "qSO2dTgWSXko"
      },
      "execution_count": null,
      "outputs": []
    },
    {
      "cell_type": "code",
      "source": [
        "# Convert chunks in LangChain documents\n",
        "\n",
        "docs = [\n",
        "    Document(\n",
        "        page_content=chunk,\n",
        "        metadata={\n",
        "            \"purpose\": \"case_study\",\n",
        "            \"domain\": \"inventory\"\n",
        "        },\n",
        "    )\n",
        "    for chunk in chunks\n",
        "]\n"
      ],
      "metadata": {
        "id": "baK9oLBa3BOp"
      },
      "execution_count": null,
      "outputs": []
    },
    {
      "cell_type": "markdown",
      "source": [
        "Insert into ChromaDB"
      ],
      "metadata": {
        "id": "1NUZxSwv3G10"
      }
    },
    {
      "cell_type": "code",
      "source": [
        "# extract and format for ChromaDB\n",
        "documents = [doc.page_content for doc in docs]\n",
        "metadatas = [doc.metadata for doc in docs]\n",
        "ids = [str(uuid.uuid4()) for _ in docs]"
      ],
      "metadata": {
        "id": "AmfQrcqo3Bvt"
      },
      "execution_count": null,
      "outputs": []
    },
    {
      "cell_type": "code",
      "source": [
        "inventory_collection.add(\n",
        "    documents=documents,\n",
        "    metadatas=metadatas,\n",
        "    ids=ids\n",
        ")\n",
        "# inventory_collection.peek()"
      ],
      "metadata": {
        "id": "Io8HHi5k3Dqh"
      },
      "execution_count": null,
      "outputs": []
    },
    {
      "cell_type": "markdown",
      "source": [
        "### --- Inventory Optimization: Case Study ---"
      ],
      "metadata": {
        "id": "D1f3kBicC-3K"
      }
    },
    {
      "cell_type": "code",
      "source": [
        "url = 'https://statso.io/wp-content/uploads/2023/08/demand_inventory.csv'\n",
        "inv_opt = pd.read_csv(url)"
      ],
      "metadata": {
        "id": "IrXD8ujCJIbi"
      },
      "execution_count": null,
      "outputs": []
    },
    {
      "cell_type": "code",
      "source": [
        "# Data pre-processing\n",
        "# Removing the unnecessary 'Unnamed: 0' column\n",
        "inv_opt.drop(columns=['Unnamed: 0'], inplace=True)\n",
        "\n",
        "# Converting 'Data' to suitable format and using it as the index\n",
        "inv_opt['Date'] = pd.to_datetime(inv_opt['Date'])\n",
        "inv_opt.set_index('Date', inplace=True)\n",
        "\n",
        "# Adding rolling average demand, computed over the last 7 days\n",
        "inv_opt['rolling_demand'] = inv_opt['Demand'].rolling(window=7, min_periods=1).mean()\n",
        "\n",
        "# Adding days of inventory\n",
        "inv_opt['days_of_inventory'] = inv_opt['Inventory'] / inv_opt['rolling_demand']"
      ],
      "metadata": {
        "id": "H9bJRavTJVzv"
      },
      "execution_count": null,
      "outputs": []
    },
    {
      "cell_type": "code",
      "source": [
        "# Visualizing the Data - demand over time\n",
        "plt.figure(figsize=(12, 6))\n",
        "sns.lineplot(data=inv_opt, x=inv_opt.index, y='Demand')\n",
        "plt.title('Daily Demand Over Time')\n",
        "plt.xlabel('Date')\n",
        "plt.ylabel('Demand')\n",
        "plt.show()\n"
      ],
      "metadata": {
        "collapsed": true,
        "id": "nfFxEDhFJjYr"
      },
      "execution_count": null,
      "outputs": []
    },
    {
      "cell_type": "code",
      "source": [
        "# Visualizing the data - inventory over time\n",
        "plt.figure(figsize=(12, 6))\n",
        "sns.lineplot(data=inv_opt, x=inv_opt.index, y='Inventory')\n",
        "plt.title('Daily Inventory Over Time')\n",
        "plt.xlabel('Date')\n",
        "plt.ylabel('Inventory')\n",
        "plt.show()\n"
      ],
      "metadata": {
        "collapsed": true,
        "id": "hq7-HjNwJ51h"
      },
      "execution_count": null,
      "outputs": []
    },
    {
      "cell_type": "markdown",
      "source": [
        "Insert into ChromaDB"
      ],
      "metadata": {
        "id": "FrmUWOs8Js7o"
      }
    },
    {
      "cell_type": "code",
      "source": [
        "# Create natural language summaries\n",
        "def row_to_summary(row, date):\n",
        "    doi = row['days_of_inventory']\n",
        "    stock_status = (\n",
        "        \"overstock risk\" if doi > 30 else\n",
        "        \"stockout risk\" if doi < 5 else\n",
        "        \"healthy stock level\"\n",
        "    )\n",
        "\n",
        "    return (\n",
        "        f\"On {date.date()}, product {row['Product_ID']} had a demand of \"\n",
        "        f\"{row['Demand']} units and an ending inventory of {row['Inventory']} units. \"\n",
        "        f\"This corresponds to approximately {doi:.1f} days of inventory, indicating {stock_status}.\"\n",
        "    )"
      ],
      "metadata": {
        "id": "PZ4MGgYUKlQF"
      },
      "execution_count": null,
      "outputs": []
    },
    {
      "cell_type": "code",
      "source": [
        "documents = []\n",
        "metadatas = []\n",
        "ids = []\n",
        "\n",
        "for idx, row in inv_opt.iterrows():\n",
        "    summary = row_to_summary(row, date=idx)\n",
        "    documents.append(summary)\n",
        "    metadatas.append({\n",
        "        \"purpose\": \"case_study\",\n",
        "        \"domain\": \"inventory\",\n",
        "    })\n",
        "    ids.append(f\"{row['Product_ID']}_{idx.strftime('%Y%m%d')}\") # adding unique keys"
      ],
      "metadata": {
        "id": "x1CB5OvELaQC"
      },
      "execution_count": null,
      "outputs": []
    },
    {
      "cell_type": "code",
      "source": [
        "inventory_collection.add(\n",
        "    documents=documents,\n",
        "    metadatas=metadatas,\n",
        "    ids=ids\n",
        ")\n",
        "\n",
        "# inventory_collection.peek()"
      ],
      "metadata": {
        "id": "O1DWTnLIQJgt"
      },
      "execution_count": null,
      "outputs": []
    },
    {
      "cell_type": "markdown",
      "source": [
        "### More Inventory Case Studies"
      ],
      "metadata": {
        "id": "G_l0ngz-WPIx"
      }
    },
    {
      "cell_type": "code",
      "source": [
        "documents = []\n",
        "metadatas = []\n",
        "ids = []\n",
        "\n",
        "inventory_casestudy_1 = \"\"\"\n",
        "Background\n",
        "A mid-sized retail company was grappling with persistent overstocking issues. Their warehouses were filled with unsold merchandise, leading to escalating storage costs, high rates of obsolescence, and unnecessary markdowns. The excess inventory tied up working capital and hindered the company’s ability to pivot with market trends.\n",
        "\n",
        "Solution\n",
        "The company implemented an inventory optimization strategy centered around automated demand planning. By analyzing historical sales data and seasonality trends, they fine-tuned stock levels to reflect true customer demand. Advanced algorithms generated accurate forecasts, and automated reorder processes helped maintain optimal inventory without human intervention.\n",
        "\n",
        "Result\n",
        "Within the first year of implementation, the retailer reported an 18% reduction in total inventory volume. This translated into annual savings of over $500,000 due to decreased warehousing costs and better stock turnover. The company also saw improved agility in responding to market fluctuations, enabling it to introduce new products faster.\n",
        "\"\"\"\n",
        "documents.append(inventory_casestudy_1)\n",
        "metadatas.append({\n",
        "    \"purpose\": \"case_study\",\n",
        "    \"domain\": \"inventory\",\n",
        "})\n",
        "ids.append(str(uuid.uuid4()))\n",
        "\n",
        "inventory_casestudy_2 = \"\"\"\n",
        "The Challenge\n",
        "A growing e-commerce business frequently encountered product stockouts, particularly during peak seasons. These shortages frustrated customers, led to missed sales, and damaged brand credibility. Manual tracking of reorder points proved unreliable due to fluctuating demand and inconsistent vendor lead times.\n",
        "\n",
        "The Optimization Strategy\n",
        "To address the issue, the company adopted automated reorder point optimization. Using built-in ERP tools, they calculated reorder points based on a combination of sales velocity, supplier lead time, and safety stock requirements. The system monitored inventory in real time and automatically triggered replenishment orders when thresholds were reached.\n",
        "\n",
        "Outcomes\n",
        "Stock availability increased by 30%, particularly during high-demand periods. The automation reduced manual errors and enabled the procurement team to focus on supplier relationship management rather than operational fire-fighting. As a result, customer satisfaction and repeat purchase rates noticeably improved.\n",
        "\"\"\"\n",
        "documents.append(inventory_casestudy_2)\n",
        "metadatas.append({\n",
        "    \"purpose\": \"solution\",\n",
        "    \"domain\": \"inventory\",\n",
        "})\n",
        "ids.append(str(uuid.uuid4()))\n",
        "\n",
        "inventory_casestudy_3 = \"\"\"\n",
        "Context\n",
        "A manufacturing firm was experiencing a slow inventory turnover ratio, holding onto materials and finished goods for extended periods. This inefficiency led to cash flow constraints and limited the company’s ability to invest in innovation and market expansion.\n",
        "\n",
        "Inventory Optimization Strategy\n",
        "The company conducted a full SKU analysis using ABC classification, identifying low-value and slow-moving items that could be phased out or reordered less frequently. Demand forecasting models were implemented to align procurement schedules with actual sales patterns, reducing bulk purchases of underperforming items.\n",
        "\n",
        "Projected Financial Impact\n",
        "The improved turnover ratio—from 3x to 6x annually—freed up substantial working capital. Conservative estimates suggested annual cost savings exceeding $300,000 through reduced holding costs, better supplier terms, and fewer product write-offs. Additionally, the faster turnover cycle improved forecasting accuracy and operational efficiency across the board.\n",
        "\"\"\"\n",
        "documents.append(inventory_casestudy_3)\n",
        "metadatas.append({\n",
        "    \"purpose\": \"cost_estimates\",\n",
        "    \"domain\": \"inventory\",\n",
        "})\n",
        "ids.append(str(uuid.uuid4()))\n",
        "\n",
        "inventory_casestudy_4 = \"\"\"\n",
        "The Problem\n",
        "A consumer goods distributor experienced frequent delays due to over-reliance on a single supplier network. Disruptions in shipments led to gaps in product availability and increased costs due to last-minute emergency orders from alternate vendors.\n",
        "\n",
        "Solution Framework\n",
        "The company shifted towards a multi-sourcing strategy, supported by ERP-based vendor scorecards and delivery tracking. This allowed them to evaluate suppliers based on lead times, reliability, and cost efficiency. Safety stock policies were recalibrated, and predictive models helped anticipate disruptions before they impacted inventory.\n",
        "\n",
        "Results\n",
        "The changes improved the company’s order fulfillment rate from 85% to 97% within six months. With improved visibility and supplier accountability, the business not only reduced emergency procurement costs but also boosted customer retention due to enhanced delivery reliability.\n",
        "\"\"\"\n",
        "documents.append(inventory_casestudy_4)\n",
        "metadatas.append({\n",
        "    \"purpose\": \"case_study\",\n",
        "    \"domain\": \"inventory\",\n",
        "})\n",
        "ids.append(str(uuid.uuid4()))\n",
        "\n",
        "inventory_casestudy_5 = \"\"\"\n",
        "Background\n",
        "A mid-sized e-commerce retailer faced challenges with inventory inaccuracies, leading to frequent stockouts and overstock situations. These issues resulted in lost sales opportunities and increased holding costs.​\n",
        "\n",
        "Solution\n",
        "The company implemented Hopstack's intelligent inventory management solutions, which provided real-time visibility into stock levels across all channels. By leveraging automated inventory allocation and dynamic replenishment strategies, the retailer could maintain optimal stock levels and respond swiftly to demand fluctuations.​\n",
        "\n",
        "Outcome\n",
        "Post-implementation, the retailer achieved 99.9% inventory accuracy and a 50% decline in stockouts. Additionally, there was a 35% improvement in order fill rates, leading to enhanced customer satisfaction and reduced operational costs.​\n",
        "\"\"\"\n",
        "documents.append(inventory_casestudy_5)\n",
        "metadatas.append({\n",
        "    \"purpose\": \"case_study\",\n",
        "    \"domain\": \"inventory\",\n",
        "})\n",
        "ids.append(str(uuid.uuid4()))\n",
        "\n",
        "inventory_casestudy_6 = \"\"\"\n",
        "The Challenge\n",
        "Traditional forecasting methods, such as moving averages, were insufficient for a consumer electronics distributor dealing with seasonal demand and rapid product obsolescence. This led to either excess inventory or missed sales opportunities.​\n",
        "\n",
        "The Optimization Strategy\n",
        "By adopting a machine learning-centric approach, the distributor utilized models that considered various features, including historical sales data, market trends, and promotional activities. This approach allowed for more accurate demand forecasting and inventory optimization.​\n",
        "\n",
        "Outcomes\n",
        "The machine learning models provided explainable and actionable insights, enabling the distributor to adjust inventory levels proactively. This led to a significant reduction in excess stock and improved the alignment of inventory with actual demand patterns.​\n",
        "\"\"\"\n",
        "documents.append(inventory_casestudy_6)\n",
        "metadatas.append({\n",
        "    \"purpose\": \"solution\",\n",
        "    \"domain\": \"inventory\",\n",
        "})\n",
        "ids.append(str(uuid.uuid4()))\n",
        "\n",
        "inventory_casestudy_7 = \"\"\"\n",
        "Context\n",
        "A fashion retailer struggled with high fulfillment costs due to inefficient inventory placement and frequent stock transfers between warehouses. These inefficiencies increased shipping times and costs.​\n",
        "\n",
        "Inventory Optimization Strategy\n",
        "The retailer implemented Hopstack's dynamic inventory allocation system, which automated the distribution of stock based on real-time demand and predefined business rules. This system prioritized high-demand products and optimized stock levels across all locations.​\n",
        "\n",
        "Projected Financial Impact\n",
        "By optimizing inventory placement, the retailer reduced inter-warehouse transfers by 40% and decreased average shipping times by 25%. These improvements led to an estimated annual savings of $300,000 in fulfillment costs.\n",
        "\"\"\"\n",
        "documents.append(inventory_casestudy_7)\n",
        "metadatas.append({\n",
        "    \"purpose\": \"cost_estimates\",\n",
        "    \"domain\": \"inventory\",\n",
        "})\n",
        "ids.append(str(uuid.uuid4()))\n",
        "\n",
        "inventory_casestudy_8 = \"\"\"\n",
        "The Problem\n",
        "A home goods supplier faced challenges with order fulfillment efficiency, resulting in delayed shipments and customer dissatisfaction. Manual processes were time-consuming and prone to errors.​\n",
        "\n",
        "Solution Framework\n",
        "The supplier adopted Hopstack's automated inventory management features, including cycle counting, inventory audits, and automated replenishment. These tools streamlined operations and ensured accurate stock levels.​\n",
        "\n",
        "Results\n",
        "The automation led to a 30% reduction in order processing times and a 20% decrease in fulfillment errors. Improved efficiency enhanced customer satisfaction and allowed the supplier to handle increased order volumes without additional staffing.​\n",
        "\"\"\"\n",
        "documents.append(inventory_casestudy_8)\n",
        "metadatas.append({\n",
        "    \"purpose\": \"case_study\",\n",
        "    \"domain\": \"inventory\",\n",
        "})\n",
        "ids.append(str(uuid.uuid4()))\n",
        "\n",
        "inventory_casestudy_9 = \"\"\"\n",
        "Background: Stanley Black & Decker, a global leader in tools and storage, faced challenges with excessive finished goods inventory, leading to high carrying costs and reduced operational efficiency.​\n",
        "\n",
        "Solution: By implementing Logility’s Voyager Inventory Optimization™, the company aimed to balance inventory levels with actual demand, ensuring optimal stock availability without overstocking.​\n",
        "\n",
        "Outcome: The initiative led to a 27% reduction in finished goods inventory, freeing up significant working capital and enhancing the company's ability to respond swiftly to market demands.\n",
        "\"\"\"\n",
        "documents.append(inventory_casestudy_9)\n",
        "metadatas.append({\n",
        "    \"purpose\": \"case_study\",\n",
        "    \"domain\": \"inventory\",\n",
        "})\n",
        "ids.append(str(uuid.uuid4()))\n",
        "\n",
        "inventory_casestudy_10 = \"\"\"\n",
        "Scenario: A mid-sized retailer maintained high inventory levels to prevent stockouts, resulting in tied-up capital and increased storage costs.​\n",
        "\n",
        "Strategy: By adopting an inventory optimization solution, the retailer analyzed demand patterns, adjusted safety stock levels, and streamlined replenishment processes.​\n",
        "\n",
        "Financial Impact: The retailer achieved a 10%–30% reduction in inventory holdings, translating to substantial savings in storage costs and freeing up capital for other strategic investments.\n",
        "\"\"\"\n",
        "documents.append(inventory_casestudy_10)\n",
        "metadatas.append({\n",
        "    \"purpose\": \"cost_estimate\",\n",
        "    \"domain\": \"inventory\",\n",
        "})\n",
        "ids.append(str(uuid.uuid4()))\n",
        "\n",
        "inventory_casestudy_11 = \"\"\"\n",
        "Challenge: A distributor faced issues with redundant stock and frequent markdowns due to overstocking and misaligned inventory levels.​\n",
        "\n",
        "Approach: Implementing time-phased inventory planning allowed the distributor to align stock levels with actual demand forecasts, set optimal safety stock levels, and determine precise replenishment quantities for each item.​\n",
        "\n",
        "Results: The distributor eliminated redundant stock, accelerated inventory turnover, prevented product obsolescence, and reduced markdown quantities, leading to improved profitability and warehouse space utilization.\n",
        "\"\"\"\n",
        "documents.append(inventory_casestudy_11)\n",
        "metadatas.append({\n",
        "    \"purpose\": \"solution\",\n",
        "    \"domain\": \"inventory\",\n",
        "})\n",
        "ids.append(str(uuid.uuid4()))\n",
        "\n",
        "inventory_casestudy_12 = \"\"\"\n",
        "Problem: A manufacturing company experienced disruptions due to supply chain variability, affecting production schedules and customer satisfaction.​\n",
        "\n",
        "Solution: By enhancing visibility into procurement, production costs, and service requirements through an inventory optimization system, the company could proactively manage supply chain uncertainties.​\n",
        "\n",
        "Outcome: The company achieved more efficient operations, reduced the need for expedited production and transportation, minimized disruptions, and improved customer service levels.\n",
        "\"\"\"\n",
        "documents.append(inventory_casestudy_12)\n",
        "metadatas.append({\n",
        "    \"purpose\": \"case_study\",\n",
        "    \"domain\": \"inventory\",\n",
        "})\n",
        "ids.append(str(uuid.uuid4()))\n",
        "\n",
        "inventory_casestudy_13 = \"\"\"\n",
        "Issue: Frequent stockouts led to delayed deliveries and dissatisfied customers for an online retailer.​\n",
        "\n",
        "Strategy: Implementing demand alignment and forecasting tools within an inventory optimization solution enabled the retailer to better predict customer needs and maintain appropriate stock levels.​\n",
        "\n",
        "Impact: The retailer experienced increased customer service levels, more consistent delivery performance, and strengthened brand loyalty. ​\n",
        "\"\"\"\n",
        "documents.append(inventory_casestudy_13)\n",
        "metadatas.append({\n",
        "    \"purpose\": \"solution\",\n",
        "    \"domain\": \"inventory\",\n",
        "})\n",
        "ids.append(str(uuid.uuid4()))\n",
        "\n",
        "inventory_casestudy_14 = \"\"\"\n",
        "Challenge: Warehouse staff struggled with inefficiencies due to inaccurate inventory data, leading to misplaced items and delayed order fulfillment.​\n",
        "\n",
        "Implementation: An inventory optimization system provided real-time, accurate inventory information, enabling employees to make informed decisions and streamline operations.​\n",
        "\n",
        "Result: Employees became more confident and efficient in their roles, leading to shorter lead times, lower operational costs, and improved overall productivity. ​\n",
        "\"\"\"\n",
        "documents.append(inventory_casestudy_14)\n",
        "metadatas.append({\n",
        "    \"purpose\": \"case_study\",\n",
        "    \"domain\": \"inventory\",\n",
        "})\n",
        "ids.append(str(uuid.uuid4()))\n",
        "\n",
        "inventory_casestudy_15 = \"\"\"\n",
        "Background: Canadian Tire, a major Canadian retailer, faced unprecedented challenges during the early days of the COVID-19 pandemic, with 40% of its brick-and-mortar locations shut down due to quarantine measures.​\n",
        "\n",
        "Solution: Leveraging ThoughtSpot's self-service business intelligence tools, Canadian Tire quickly identified shifting customer demands and adjusted its inventory accordingly. This agile approach allowed the company to reallocate stock to meet the changing needs of its customers.​\n",
        "\n",
        "Outcome: Despite significant operational disruptions, Canadian Tire achieved a 20% increase in sales, demonstrating the effectiveness of data-driven inventory management in responding to rapidly changing market conditions.\n",
        "\"\"\"\n",
        "documents.append(inventory_casestudy_15)\n",
        "metadatas.append({\n",
        "    \"purpose\": \"case_study\",\n",
        "    \"domain\": \"inventory\",\n",
        "})\n",
        "ids.append(str(uuid.uuid4()))\n",
        "\n",
        "inventory_casestudy_16 = \"\"\"\n",
        "Challenge: Businesses often struggle with managing vast inventories, leading to inefficiencies and increased holding costs.​\n",
        "\n",
        "Approach: Implementing ABC analysis allows companies to categorize inventory into three groups: 'A' items (high value, low quantity), 'B' items (moderate value and quantity), and 'C' items (low value, high quantity). This classification helps prioritize inventory management efforts based on the significance of each category.​\n",
        "\n",
        "Benefits: By focusing resources on 'A' items, businesses can ensure optimal stock levels for high-value products, reduce excess inventory, and improve overall operational efficiency.\n",
        "\"\"\"\n",
        "documents.append(inventory_casestudy_16)\n",
        "metadatas.append({\n",
        "    \"purpose\": \"solution\",\n",
        "    \"domain\": \"inventory\",\n",
        "})\n",
        "ids.append(str(uuid.uuid4()))\n",
        "\n",
        "inventory_casestudy_17 = \"\"\"\n",
        "Background: Fabuwood, a cabinet manufacturer, faced challenges in managing its extensive product portfolio, leading to inefficiencies and increased costs.​\n",
        "\n",
        "Solution: By adopting ThoughtSpot's analytics platform, Fabuwood empowered its team to access and analyze SKU-level data, facilitating informed decisions about product offerings.​\n",
        "\n",
        "Outcome: The company streamlined its product lineup, eliminating underperforming SKUs, reducing inventory costs, and enhancing profitability.\n",
        "\"\"\"\n",
        "documents.append(inventory_casestudy_17)\n",
        "metadatas.append({\n",
        "    \"purpose\": \"case_study\",\n",
        "    \"domain\": \"inventory\",\n",
        "})\n",
        "ids.append(str(uuid.uuid4()))\n",
        "\n",
        "inventory_casestudy_18 = \"\"\"\n",
        "Solution: Enhancing Supply Chain Resilience with Business Intelligence\n",
        "Challenge: Supply chain disruptions can significantly impact inventory levels and customer satisfaction.​\n",
        "\n",
        "Approach: Implementing business intelligence tools allows companies to analyze factors like seasonal trends, market conditions, and customer behavior, enabling them to optimize inventory levels, production schedules, and distribution strategies.​\n",
        "\n",
        "Benefits: By proactively managing supply chain variables, businesses can minimize stockouts, reduce excess inventory, and improve overall operational efficiency. ​\n",
        "\"\"\"\n",
        "documents.append(inventory_casestudy_18)\n",
        "metadatas.append({\n",
        "    \"purpose\": \"solution\",\n",
        "    \"domain\": \"inventory\",\n",
        "})\n",
        "ids.append(str(uuid.uuid4()))"
      ],
      "metadata": {
        "id": "xDkrc5unaaAx"
      },
      "execution_count": null,
      "outputs": []
    },
    {
      "cell_type": "code",
      "source": [
        "inventory_collection.add(\n",
        "    documents=documents,\n",
        "    metadatas=metadatas,\n",
        "    ids=ids\n",
        ")"
      ],
      "metadata": {
        "id": "8npFfVhkdK9T"
      },
      "execution_count": null,
      "outputs": []
    },
    {
      "cell_type": "markdown",
      "source": [
        "### --- ProValet's HVAC Industry Case Studies Article ---"
      ],
      "metadata": {
        "id": "FrwPrhQ8j5bg"
      }
    },
    {
      "cell_type": "code",
      "source": [
        "url = \"https://www.provalet.io/guides-posts/hvac-industry-case-studies\"\n",
        "response = requests.get(url)\n",
        "response.encoding = 'utf-8'\n",
        "soup = BeautifulSoup(response.text, \"html.parser\")\n",
        "\n",
        "full_text = ' '.join([p.get_text() for p in soup.find_all('p')])\n"
      ],
      "metadata": {
        "id": "rA-uW4ZJkAiw"
      },
      "execution_count": null,
      "outputs": []
    },
    {
      "cell_type": "code",
      "source": [
        "# Create a splitter\n",
        "text_splitter = CharacterTextSplitter(\n",
        "    separator=\" \",\n",
        "    chunk_size=700,\n",
        "    chunk_overlap=100,\n",
        "    length_function=len\n",
        ")\n",
        "\n",
        "chunks = text_splitter.split_text(full_text)\n",
        "\n",
        "# Check one\n",
        "print(f\"Split into {len(chunks)} chunks. First one:\\n\\n{chunks[0]}\")"
      ],
      "metadata": {
        "id": "GeX7s13wshTm"
      },
      "execution_count": null,
      "outputs": []
    },
    {
      "cell_type": "code",
      "source": [
        "# Convert chunks in LangChain documents\n",
        "\n",
        "docs = [\n",
        "    Document(\n",
        "        page_content=chunk,\n",
        "        metadata={\n",
        "            \"purpose\": \"case_study\",\n",
        "            \"domain\": \"energy\"\n",
        "        },\n",
        "    )\n",
        "    for chunk in chunks\n",
        "]\n"
      ],
      "metadata": {
        "id": "hkyrElBsJnY7"
      },
      "execution_count": null,
      "outputs": []
    },
    {
      "cell_type": "markdown",
      "source": [
        "Insert into ChromaDB"
      ],
      "metadata": {
        "id": "gNQGz2q2JxTL"
      }
    },
    {
      "cell_type": "code",
      "source": [
        "# extract and format for ChromaDB\n",
        "documents = [doc.page_content for doc in docs]\n",
        "metadatas = [doc.metadata for doc in docs]\n",
        "ids = [str(uuid.uuid4()) for _ in docs]"
      ],
      "metadata": {
        "id": "tlPssqcJJvru"
      },
      "execution_count": null,
      "outputs": []
    },
    {
      "cell_type": "code",
      "source": [
        "energy_collection.add(\n",
        "    documents=documents,\n",
        "    metadatas=metadatas,\n",
        "    ids=ids\n",
        ")\n",
        "# energy_collection.peek()"
      ],
      "metadata": {
        "id": "KNJt0s6jPllc"
      },
      "execution_count": null,
      "outputs": []
    },
    {
      "cell_type": "markdown",
      "source": [
        "### --- Summary of Economics ROI Impact Evaluation Studies ---"
      ],
      "metadata": {
        "id": "gKLX4_FKRjB7"
      }
    },
    {
      "cell_type": "code",
      "source": [
        "# Fetching the PDF\n",
        "url = \"https://www.energy.gov/sites/default/files/2025-01/eere-iso-roi-report-2024.pdf\"\n",
        "response = requests.get(url)\n",
        "\n",
        "with open(\"eere_roi_report.pdf\", \"wb\") as f:\n",
        "    f.write(response.content)\n"
      ],
      "metadata": {
        "id": "HggOiS7_R1VX"
      },
      "execution_count": null,
      "outputs": []
    },
    {
      "cell_type": "code",
      "source": [
        "# Parse text and tables\n",
        "tables = []\n",
        "paragraphs = []\n",
        "\n",
        "with pdfplumber.open(\"eere_roi_report.pdf\") as pdf:\n",
        "    for page_num, page in enumerate(pdf.pages):\n",
        "        # Extract raw text\n",
        "        if page_num == 7: # don't extract the references page\n",
        "          break\n",
        "\n",
        "        text = page.extract_text()\n",
        "        if text:\n",
        "            paragraphs.append({\n",
        "                \"page\": page_num + 1,\n",
        "                \"text\": text\n",
        "            })\n",
        "\n",
        "        # Extract tables\n",
        "        page_tables = page.extract_tables()\n",
        "        for table in page_tables:\n",
        "            df = pd.DataFrame(table[1:], columns=table[0])\n",
        "            tables.append({\n",
        "                \"page\": page_num + 1,\n",
        "                \"table\": df\n",
        "            })\n",
        "\n",
        "cleaned_tables = []\n",
        "\n",
        "for table_obj in tables:\n",
        "    df = table_obj[\"table\"]\n",
        "\n",
        "    # Clean column names\n",
        "    df.columns = [col.replace('\\n', ' ').strip() for col in df.columns]\n",
        "\n",
        "    # Clean every cell in the DataFrame\n",
        "    cleaned_df = df.map(lambda cell: cell.replace('\\n', ' ').strip() if isinstance(cell, str) else cell)\n",
        "\n",
        "    # Store cleaned version\n",
        "    cleaned_tables.append({\n",
        "        \"page\": table_obj[\"page\"],\n",
        "        \"table\": cleaned_df\n",
        "    })"
      ],
      "metadata": {
        "id": "2q-CsqPvStQ3"
      },
      "execution_count": null,
      "outputs": []
    },
    {
      "cell_type": "code",
      "source": [
        "# Show output\n",
        "for p in paragraphs:\n",
        "    print(f\"\\n--- Page {p['page']} ---\")\n",
        "    print(p[\"text\"])\n",
        "\n",
        "for i, t in enumerate(cleaned_tables):\n",
        "    print(f\"\\n--- Table from Page {t['page']} ---\")\n",
        "    display(t[\"table\"])\n",
        "\n",
        "print(f\"{len(paragraphs)} paragraphs extracted.\")\n",
        "print(f\"{len(tables)} tables extracted.\")"
      ],
      "metadata": {
        "id": "naE1F6QXa7EV",
        "collapsed": true
      },
      "execution_count": null,
      "outputs": []
    },
    {
      "cell_type": "code",
      "source": [
        "# Pre-process Table 1, page 5 for ChormaDB\n",
        "documents = []\n",
        "metadatas = []\n",
        "ids = []\n",
        "\n",
        "gross_table = cleaned_tables[2][\"table\"]\n",
        "\n",
        "for _, row in gross_table.iterrows():\n",
        "    if \"Sum Totals\" in str(row[1]):\n",
        "        continue\n",
        "\n",
        "    program_full = str(row[0]).strip()\n",
        "    parts = program_full.split()\n",
        "    program_code = parts[0]\n",
        "    program_year = parts[1] if len(parts) > 1 else \"unknown\"\n",
        "\n",
        "    investment = row[3]\n",
        "    benefit = row[5]\n",
        "\n",
        "    summary = (\n",
        "        f\"In {program_year}, the DOE’s {program_code} program invested approximately {investment} million USD \"\n",
        "        f\"and achieved a gross economic benefit of {benefit} million USD. \"\n",
        "        \"These values are adjusted for inflation to 2024 and are not discounted.\"\n",
        "    )\n",
        "\n",
        "    metadata = {\n",
        "        \"purpose\": \"cost_estimates\",\n",
        "        \"domain\": \"energy\",\n",
        "    }\n",
        "\n",
        "    documents.append(summary)\n",
        "    metadatas.append(metadata)\n",
        "    ids.append(str(uuid.uuid4()))\n",
        "\n",
        "# Store Table 1 Data\n",
        "energy_collection.add(\n",
        "    documents=documents,\n",
        "    metadatas=metadatas,\n",
        "    ids=ids\n",
        ")\n"
      ],
      "metadata": {
        "id": "RWPauwUhg-IF"
      },
      "execution_count": null,
      "outputs": []
    },
    {
      "cell_type": "code",
      "source": [
        "# Pre-process Table 2, page 5 for ChormaDB\n",
        "documents = []\n",
        "metadatas = []\n",
        "ids = []\n",
        "\n",
        "roi_table = cleaned_tables[3][\"table\"]\n",
        "\n",
        "for _, row in roi_table.iterrows():\n",
        "    if \"Totals\" in str(row[0]):\n",
        "        continue\n",
        "\n",
        "    program_full = str(row[0]).strip()\n",
        "    parts = program_full.split()\n",
        "    program_code = parts[0]\n",
        "    program_year = parts[1] if len(parts) > 1 else \"unknown\"\n",
        "\n",
        "    investment = row[1]\n",
        "    gross_benefit = row[2]\n",
        "    net_benefit = row[3]\n",
        "    npv_3 = row[4]\n",
        "    npv_7 = row[5]\n",
        "    ratio_3 = row[6]\n",
        "    ratio_7 = row[7]\n",
        "\n",
        "    summary = (\n",
        "        f\"In {program_year}, the DOE’s {program_code} program invested {investment} million USD. \"\n",
        "        f\"This generated {gross_benefit} million USD in total benefits and {net_benefit} million USD in net economic gains \"\n",
        "        \"(all values inflation-adjusted to 2024 and not discounted). \"\n",
        "        f\"The net present value (NPV) was {npv_3}M at a 3% discount rate and {npv_7}M at 7%. \"\n",
        "        f\"The corresponding benefit-to-cost ratios were {ratio_3} and {ratio_7}.\"\n",
        "    )\n",
        "\n",
        "    metadata = {\n",
        "        \"purpose\": \"cost_estimates\",\n",
        "        \"domain\": \"energy\",\n",
        "    }\n",
        "\n",
        "    documents.append(summary)\n",
        "    metadatas.append(metadata)\n",
        "    ids.append(str(uuid.uuid4()))\n",
        "\n",
        "# Store Table 2 Data\n",
        "energy_collection.add(\n",
        "    documents=documents,\n",
        "    metadatas=metadatas,\n",
        "    ids=ids\n",
        ")\n"
      ],
      "metadata": {
        "collapsed": true,
        "id": "4VQV0lskc31g"
      },
      "execution_count": null,
      "outputs": []
    },
    {
      "cell_type": "code",
      "source": [
        "# Chunking and pre-processing paragraphs\n",
        "text_splitter = CharacterTextSplitter(\n",
        "    separator=\"\\n\\n\",\n",
        "    chunk_size=700,\n",
        "    chunk_overlap=100,\n",
        "    length_function=len\n",
        ")\n",
        "\n",
        "documents = []\n",
        "metadatas = []\n",
        "ids = []\n",
        "\n",
        "for para in paragraphs:\n",
        "    page = para[\"page\"]\n",
        "    chunks = text_splitter.split_text(para[\"text\"])\n",
        "\n",
        "    for chunk in chunks:\n",
        "        documents.append(chunk)\n",
        "        metadatas.append({\n",
        "            \"purpose\": \"case_study\",\n",
        "            \"domain\": \"energy\"\n",
        "        })\n",
        "        ids.append(str(uuid.uuid4()))\n",
        "\n",
        "# Store paragraph chunks\n",
        "energy_collection.add(\n",
        "    documents=documents,\n",
        "    metadatas=metadatas,\n",
        "    ids=ids\n",
        ")"
      ],
      "metadata": {
        "id": "cfybtqgyl3mC",
        "collapsed": true
      },
      "execution_count": null,
      "outputs": []
    },
    {
      "cell_type": "markdown",
      "source": [
        "### --- Energy Efficient Cities Data ---"
      ],
      "metadata": {
        "id": "GMhINiiMUmu9"
      }
    },
    {
      "cell_type": "code",
      "source": [
        "# https://www.esmap.org/node/231"
      ],
      "metadata": {
        "id": "DaEIoytukVA0"
      },
      "execution_count": null,
      "outputs": []
    },
    {
      "cell_type": "markdown",
      "source": [
        "Building & Heating"
      ],
      "metadata": {
        "id": "FG5547-Zat1z"
      }
    },
    {
      "cell_type": "code",
      "source": [
        "energy_cases = []\n",
        "energy_metadata = []\n",
        "\n",
        "lviv_casestudy = \"\"\"\n",
        "The Ukrainian city of Lviv was able to reduce annual energy consumption in its public buildings by about 10 percent and tap water consumption by about 12 percent through a Monitoring and Targeting (M&T) program to control energy and water consumption. This generated an estimated net savings of 9.5 million UAH (US$1.2 million) as of 2010. The M&T program was launched in December 2006 and became fully operational by May 2007. It provided the city management with monthly consumption data for district heating, natural gas, electricity and water in all of the city’s 530 public buildings.  Under the program, utility use is reported and analyzed monthly; targets for monthly utility consumption are determined annually based on historical consumption and negotiations on an adjustment (in cases of foreseeable changes in consumption patterns). Actual consumption is reviewed monthly against the target, with deviations spotted and acted upon immediately and the performance of buildings is communicated to the public through a display campaign.\n",
        "\n",
        "The M&T program achieved significant savings with minimal investment and recurring program costs. These utility bill reductions have been valuable in light of fiscal constraints and increasing energy prices. The program benefited from a crucial initial condition where most of the city’s public buildings were already metered for energy and water consumption and that the city had been collaborating with international aid programs in municipal energy since the late 1990s.\n",
        "\n",
        "Strong city government leadership and commitment were key success factors of Lviv’s public buildings energy and water M&T program. A new Energy Management Unit (EMU) was established within the city administration and resources were mobilized to train all personnel with line responsibility on building utility use in an administrative division, unit, or building. The M&T system established responsibility, created transparency, and enabled informed control of energy and water use in public buildings, laying a solid foundation for sustained improvements in energy and water efficiency.\n",
        "\n",
        "\"\"\"\n",
        "lviv_metadata = {\n",
        "  \"use_case\": \"public building energy and water overuse\",\n",
        "  \"solution_type\": \"monitoring and targeting system\",\n",
        "  \"impact\": \"reduced energy consumption by 10% and water consumption by 12%\",\n",
        "  \"estimated_savings\": \"9.5 million UAH (US$1.2 million) by 2010\",\n",
        "  \"region\": \"Lviv, Ukraine\",\n",
        "  \"business_type\": \"municipal public buildings\"\n",
        "}\n",
        "\n",
        "kyiv_casestudy = \"\"\"\n",
        "The Kiev Public Buildings Energy Efficiency Project (2000–2005) retrofitted 1,270 public buildings—schools, hospitals, and cultural institutions—with modern energy efficiency systems. These included heat meters, weather-stripping, radiator reflectors, and automated substations. The initiative achieved a 26% reduction in heating energy use (333,423 Gcal/year) and helped avoid US$31.7 million in heating bills by 2011.\n",
        "\n",
        "Funded with US$27.4 million from the World Bank, Swedish Government, and local administration, the project spurred development of a domestic energy efficiency industry and heightened public awareness. Key innovations included aligning tariff reforms with retrofits, ensuring operation and maintenance through competitive contracting, and simplifying project scope to reduce risk. The effort proved financially sustainable, with an internal rate of return of 26.6% and strong replication potential across Ukraine.\n",
        "\"\"\"\n",
        "kyiv_metadata = {\n",
        "  \"use_case\": \"inefficient heating in public buildings\",\n",
        "  \"solution_type\": \"retrofitting with demand and supply-side measures\",\n",
        "  \"impact\": \"26% reduction in heating energy use (333,423 Gcal/year)\",\n",
        "  \"estimated_savings\": \"US$31.7 million in heating bills (2005–2011)\",\n",
        "  \"region\": \"Kiev, Ukraine\",\n",
        "  \"business_type\": \"municipal public buildings\"\n",
        "}\n",
        "\n",
        "munster_casestudy = \"\"\"\n",
        "By mandating low-energy building standards in sales contracts of city-owned land, the City of Münster (Germany) caused a market transformation that led to 80 percent of all new buildings constructed in 2010, even those not built on city-owned land, to follow the city’s energy efficiency requirements. The standard, locally known as Niedrig Energie Haus (NEH), imposes stringent thermal performance requirements for the building envelope which exceed the existing German federal building regulations by 30 percent.\n",
        "\n",
        "The implementation of NEH led to the construction of over 5,600 low-energy housing units and 85 more energy efficient commercial buildings between 1997 and 2010, saving the city 13 million kWh per year while reducing annual CO2 emissions by at least 3,400 tons in the residential sector by 2010. The benefit-cost ratio to the city was over 6 to 1 and the estimated incremental cost to homeowners was, on average, about €2,600 per house (about 1.4 percent of construction costs). The transformative outcome and positive market reactions encouraged the City Council to propose a passive house standard in the fall of 2010.\n",
        "\n",
        "The program was fairly low in cost, less than about a half million Euros, invested by the city to achieve substantial savings. However, some of the conditions were very unique; the city owned about 50 percent of the undeveloped land, city residents were supportive of broad scale climate measures, and homeowners had the financial means to absorb a modest incremental cost for the low-energy houses.\n",
        "\"\"\"\n",
        "munster_metadata = {\n",
        "  \"use_case\": \"energy inefficiency in new residential and commercial buildings\",\n",
        "  \"solution_type\": \"mandated low-energy building standards via land sales contracts\",\n",
        "  \"impact\": \"saved 13 million kWh/year and reduced CO2 emissions by 3,400 tons/year\",\n",
        "  \"estimated_savings\": \"benefit-cost ratio over 6:1; average homeowner cost €2,600 (~1.4% of construction cost)\",\n",
        "  \"region\": \"Münster, Germany\",\n",
        "  \"business_type\": \"residential and commercial construction\"\n",
        "}\n",
        "\n",
        "tianjin_casestudy = \"\"\"\n",
        "Tianjin is one of the most successful Chinese cities in compliance enforcement of building energy efficiency codes (BEECs). Results of recent annual national inspections organized by the Ministry of Housing and Urban and Rural Development (MoHURD) indicate that compliance of BEECs in new residential and commercial buildings in Tianjin is close to 100 percent, compared to the 80 percent average across nearly three dozen large cities inspected by MoHURD in 2008. More remarkable is the fact that, in terms of building envelope thermal integrity, the currently enforced residential BEEC in Tianjin (identified as DB29-1-2007) is 30 percent more stringent than what is required by the pertinent national BEEC (identified as JGJ 26-95).\n",
        "\n",
        "In 1997, Tianjin introduced its first mandatory residential BEEC (identified as DB29-1-97), which is equivalent to the requirements of the JGJ 26-95, the national model BEEC for cold climate regions enacted in 1995. DB29-1-97 was enforced from 1998 to 2004. Enforcement actually began on January 1, 2005; it was based on an earlier version which was updated and reenacted on June 1, 2007. This case study covered five years of enforcement of DB29-1-2007, from 2005 to 2009.\n",
        "\n",
        "From 2005 to 2009, about 70 million m2 of new residential buildings were completed in the urban areas of Tianjin. Many were subject to compliance of DB29-1-97 because their construction permits were issued before January 1, 2005. About 50 million m2 of them were designed according to Tianjin’s DB29-1-2007. This puts the upper range (assuming full construction compliance) of the calculated space heating energy savings of these new buildings at about 870 GWh/year, compared with the baseline of complying with DB29-1-97 (or the national JGJ 26-95). Heat energy saved would be sufficient to provide winter space heating for about 200,000 apartments (at 100 m2 each) built to comply with DB29-1-2007. Compared with the baseline, the estimated simple payback period for compliance with DB29-1-2007 based on avoided cost of heating service is less than seven years, attractive even if the energy efficiency (EE) measures have a lifespan of 15 years.\n",
        "\n",
        "Tianjin’s efforts to go beyond national BEEC requirements marked a departure from the mostly central government-driven BEEC regulation of the past in China. Tianjin began piloting residential BEEC in the late 1980s, despite the fact that it has taken about 15 years for Tianjin to achieve a high degree of compliance. Tianjin has demonstrated the importance of the following factors in achieving BEEC compliance: (i) a well-established building construction management system, (ii) standardized and structured procedures for compliance enforcement, (iii) broad-based capacity of the construction trades to meet compliance requirements, including technical skills and availability of parts and materials, (iv) consumers’ ability and willingness to pay for the costs of BEEC compliance, and (v) local government resources, support, and commitment to implementing increasingly stringent BEECs.\n",
        "\"\"\"\n",
        "tianjin_metadata = {\n",
        "  \"use_case\": \"inefficient thermal performance in new residential buildings\",\n",
        "  \"solution_type\": \"strict enforcement of advanced building energy efficiency codes\",\n",
        "  \"impact\": \"saved up to 870 GWh/year in heating energy; sufficient to heat 200,000 apartments\",\n",
        "  \"estimated_savings\": \"simple payback period under 7 years for DB29-1-2007 compliance\",\n",
        "  \"region\": \"Tianjin, China\",\n",
        "  \"business_type\": \"residential construction and real estate development\"\n",
        "}\n",
        "\n",
        "energy_cases.append(lviv_casestudy)\n",
        "energy_cases.append(kyiv_casestudy)\n",
        "energy_cases.append(munster_casestudy)\n",
        "energy_cases.append(tianjin_casestudy)\n",
        "\n",
        "energy_metadata.append(lviv_metadata)\n",
        "energy_metadata.append(kyiv_metadata)\n",
        "energy_metadata.append(munster_metadata)\n",
        "energy_metadata.append(tianjin_metadata)"
      ],
      "metadata": {
        "id": "Vw-AH0aBa2vY"
      },
      "execution_count": null,
      "outputs": []
    },
    {
      "cell_type": "markdown",
      "source": [
        "Lighting"
      ],
      "metadata": {
        "id": "v9p05QtObH0N"
      }
    },
    {
      "cell_type": "code",
      "source": [
        "akola_casestudy = \"\"\"\n",
        "More than 11,500 street lights (standard fluorescent, mercury vapor, sodium vapor) were\n",
        "replaced with efficient, T5 fluorescent tube lamps as part of the energy efficient street\n",
        "lighting project by Akola Municipal Corporation (AMC), an Indian Urban Local Body\n",
        "(ULB) in the state of Maharashtra. The project used an energy savings performance\n",
        "contracting approach under which the contractor, Asia Electronics Limited (AEL),\n",
        "financed all investment costs, implemented the project, maintained the newly-installed\n",
        "lamps, and received a portion of the energy savings to recover its investment. Through\n",
        "the project, AMC was able to improve the service level of street lighting with lower costs\n",
        "and lower electricity bills.\n",
        "\n",
        "The project resulted in annual energy savings of 2.1 million kWh (56%), representing\n",
        "reduced electric bills for the city totaling INR (Indian Rupee) 6.4 million (US$133,000)\n",
        "per year. Since the total project cost was only about INR5.7 million (US$120,000), the\n",
        "project payback period was less than 11 months. Because the project cost was entirely\n",
        "financed by AEL, acting as an Energy Service Company (ESCO), AMC did not have to\n",
        "make any upfront investment or assume performance risks under the project. Under the\n",
        "energy savings performance contract (ESPC), compensation to AEL was based on a\n",
        "shared savings approach under which AMC paid AEL 95% of the energy bill savings\n",
        "over the contract’s 6-year duration. AEL was also paid an annual fixed fee for\n",
        "maintaining the lamps and fixtures.\n",
        "\n",
        "The project’s success has already led to similar projects being implemented in the states\n",
        "of Maharashtra and Madhya Pradesh. AEL, the World Bank, and Government of India\n",
        "are also pursuing options to mobilize carbon financing under the Clean Development\n",
        "Mechanism (CDM) to further enhance benefits to municipalities from such projects (e.g.,\n",
        "Pune, Latur).\n",
        "\"\"\"\n",
        "akola_metadata = {\n",
        "  \"use_case\": \"high electricity costs from inefficient street lighting\",\n",
        "  \"solution_type\": \"energy-efficient street lighting using performance-based ESCO model\",\n",
        "  \"impact\": \"56% energy savings; 2.1 million kWh/year reduction\",\n",
        "  \"estimated_savings\": \"INR 6.4 million (US$133,000) annually; project payback < 11 months\",\n",
        "  \"region\": \"Akola, Maharashtra, India\",\n",
        "  \"business_type\": \"urban municipal street lighting\"\n",
        "}\n",
        "\n",
        "portland_casestudy = \"\"\"\n",
        "In 2001, the City of Portland replaced most of its incandescent traffic signal lights with\n",
        "new, highly efficient light-emitting diodes (LEDs). Using an innovative leasing\n",
        "arrangement to amortize the investment costs, Portland’s Signal and Street Lighting\n",
        "Division was able to replace 13,382 red and green existing incandescent lamps with\n",
        "LEDS. The project resulted in 4.9 million kilowatt-hours (kWh) of annual savings in\n",
        "energy consumption (representing an 80% reduction in energy usage), and a reduction of\n",
        "about 2,880 tons of annual CO2 emissions. While the project benefitted from a special\n",
        "tax credit and utility rebate, its economics were favorable regardless – the total\n",
        "investment of $2.2 million (before incentives) resulted in annual utility bill and\n",
        "maintenance savings of $380,000 per year, or a payback of 5.8 years (down to 3.1 years\n",
        "with the incentives). However, since the lamps were leased to the City, no upfront\n",
        "investment was required. The energy savings also helped the City avoid budgetary\n",
        "repercussions from an unexpected 40% electric rate hike from the power utility.\n",
        "\"\"\"\n",
        "portland_metadata = {\n",
        "  \"use_case\": \"high energy use and maintenance costs from incandescent traffic signals\",\n",
        "  \"solution_type\": \"LED replacement using financial lease model\",\n",
        "  \"impact\": \"80% energy reduction; 4.9 million kWh/year saved; 2,880 tons CO2 reduction annually\",\n",
        "  \"estimated_savings\": \"US$380,000/year; payback in 5.8 years (3.1 with incentives)\",\n",
        "  \"region\": \"Portland, Oregon, USA\",\n",
        "  \"business_type\": \"municipal traffic signal infrastructure\"\n",
        "}\n",
        "\n",
        "losangeles_casestudy = \"\"\"\n",
        "The City of Los Angeles (LA) Light Emitting Diode (LED) street lighting project is the\n",
        "largest LED street lighting retrofit ever undertaken globally—a collaboration between the LA\n",
        "Bureau of Street Lighting, the LA Mayor’s Office, the LA Department of Water & Power,\n",
        "and the Clinton Climate Initiative (CCI) Cities Program. Over a period of five years (2009-\n",
        "2014), the project will replace 140,000 of the city’s more than 209,000 street lights with LED\n",
        "technology which is expected to enhance the quality of municipal street lighting, reduce light\n",
        "pollution, improve street safety, and save energy and money. The US$56.9 million\n",
        "investment required will provide an estimated US$10 million in annual energy and\n",
        "maintenance cost savings (68.6 GWh/year) while avoiding at least 40,500 tons of CO2 e\n",
        "emissions each year.\n",
        "The project was initiated only after comprehensive planning and evaluation yielded positive\n",
        "results and feedback from stakeholders, a constructive model for other cities to follow. The\n",
        "technology and financial evaluation of the project was conducted with the help of CCI and\n",
        "other external entities. The Bureau financed the project with a seven-year, US$40 million\n",
        "dollar loan from the city, along with a US$3.6 million contribution from the Bureau’s Street\n",
        "Lighting Maintenance Assessment Fund (SLMAF) and a rebate from the LA Department of\n",
        "Water & Power-totaling US$13.2 million. The loan amount will be repaid to the city from\n",
        "energy and maintenance cost savings. Other benefits include the elimination of hazardous\n",
        "mercury from street lighting fixtures, job creation, improved illumination and visual quality\n",
        "of street lighting, enhanced safety on the roads, and reduced local and global air pollution.\n",
        "The positive feedback this project has received from local communities, politicians, law\n",
        "enforcement officials and others strengthens the case for the use of LEDs in municipal\n",
        "lighting projects.\n",
        "\"\"\"\n",
        "losangeles_metadata = {\n",
        "  \"use_case\": \"high energy and maintenance costs from traditional street lighting\",\n",
        "  \"solution_type\": \"large-scale LED street lighting retrofit\",\n",
        "  \"impact\": \"68.6 GWh/year saved; avoided 40,500 tons CO2e emissions annually\",\n",
        "  \"estimated_savings\": \"US$10 million/year with US$56.9 million investment; 7-year loan repayment from savings\",\n",
        "  \"region\": \"Los Angeles, California, USA\",\n",
        "  \"business_type\": \"municipal street lighting infrastructure\"\n",
        "}\n",
        "\n",
        "energy_cases.append(akola_casestudy)\n",
        "energy_cases.append(portland_casestudy)\n",
        "energy_cases.append(losangeles_casestudy)\n",
        "\n",
        "energy_metadata.append(akola_metadata)\n",
        "energy_metadata.append(portland_metadata)\n",
        "energy_metadata.append(losangeles_metadata)"
      ],
      "metadata": {
        "id": "ve61o2N_bO3_"
      },
      "execution_count": null,
      "outputs": []
    },
    {
      "cell_type": "code",
      "source": [
        "# energy_case_metadata = []\n",
        "# energy_case_id = []\n",
        "# for energy_case in energy_cases:\n",
        "#   energy_case_metadata.append({\n",
        "#         \"purpose\": \"case_study\",\n",
        "#         \"domain\": \"inventory\",\n",
        "#   })\n",
        "#   energy_case_id.append(str(uuid.uuid4()))\n",
        "\n",
        "# energy_collection.add(\n",
        "#   documents=energy_cases,\n",
        "#   metadatas=energy_case_metadata,\n",
        "#   ids=[energy_case_id]\n"
      ],
      "metadata": {
        "id": "e7zOtaZI5Gjd"
      },
      "execution_count": null,
      "outputs": []
    },
    {
      "cell_type": "markdown",
      "source": [
        "### --- US DOE Data ---"
      ],
      "metadata": {
        "id": "vdL6BtvDivRY"
      }
    },
    {
      "cell_type": "code",
      "source": [
        "# https://www.energy.gov/eere/iedo/case-studies-system"
      ],
      "metadata": {
        "id": "OJhJrKnkka_N"
      },
      "execution_count": null,
      "outputs": []
    },
    {
      "cell_type": "markdown",
      "source": [
        "Plant-Wide"
      ],
      "metadata": {
        "id": "V82uZByqwWvF"
      }
    },
    {
      "cell_type": "code",
      "source": [
        "alcoa_casestudy = \"\"\"\n",
        "Alcoa, the largest aluminum manufacturer in the U.S., is one of the most energy-intensive industrial operations in North America, with energy costs representing a substantial share of both alumina refining and aluminum production expenses. In response to rising energy prices, Alcoa embedded energy efficiency into its strategic and sustainability goals, initiating formal efforts as early as 1990. The company's first sustainability targets were published in 1993 and have been updated regularly since. As of 2009, Alcoa set ambitious energy intensity reduction goals—10% for primary operations and 20% for other businesses by 2020, with further reductions targeted for 2030.\n",
        "\n",
        "To meet these goals, Alcoa launched several internal programs, including the Energy Efficiency Network, which conducts on-site energy audits and identifies cost-saving measures. To date, this program has uncovered more than $100 million in potential savings.\n",
        "\n",
        "A key element in Alcoa’s success has been the active involvement of C-suite executives, particularly the CEO and the President of Energy, Rick Bowen. Their engagement not only elevated the profile of energy management across the enterprise but also led to the integration of energy performance into leadership compensation structures, boosting accountability and motivating staff.\n",
        "\n",
        "In 2010, Alcoa formalized its energy commitment by joining the U.S. Department of Energy’s Save Energy Now LEADER initiative, pledging to reduce energy consumption by 25% over 10 years. Although this target exceeded Alcoa’s internal goals, the LEADER program’s tools, training, and collaborative benefits convinced the corporate leadership to support the initiative.\n",
        "\n",
        "Financing for energy projects is coordinated through a centralized capital budget, where each business unit competes by presenting high-ROI energy-saving projects. Preference is given to projects with a payback period under two years. The President of Energy plays a pivotal role in developing these proposals and guiding their presentation to senior executives.\n",
        "\n",
        "Alcoa’s approach focuses not only on capital-intensive measures but also on behavior-based and low-cost improvements, including staff training, efficient production scheduling, and broader awareness campaigns. The company’s energy leadership team—Rick Bowen, Richard Notte (VP of Energy Services), and Walt Brockway (Manager of Global Energy Efficiency)—collaborate closely with public relations to celebrate milestones and foster a culture of sustainability.\n",
        "Alcoa’s partnership with the DOE has also proven beneficial, opening up access to diagnostic tools, peer networks, and successful case studies across industries. Alcoa credits this partnership for catalyzing internal conversations and encouraging cross-industry collaboration.\n",
        "\n",
        "In conclusion, Alcoa’s integrated energy strategy—driven by strong executive leadership, robust internal programs, and external partnerships—has transformed energy efficiency into a core business advantage. By emphasizing both immediate financial returns and long-term sustainability, the company has built a resilient and replicable model for industrial energy management.\n",
        "\"\"\"\n",
        "alcoa_metadata = {\n",
        "  \"use_case\": \"high energy intensity and cost in industrial aluminum manufacturing\",\n",
        "  \"solution_type\": \"enterprise-wide energy efficiency program with C-suite accountability and DOE partnership\",\n",
        "  \"impact\": \"identified over $100 million in savings; committed to 25% reduction in energy intensity in 10 years\",\n",
        "  \"estimated_savings\": \"up to $500,000 in one plant alone; multiple facilities seeing substantial operational savings\",\n",
        "  \"region\": \"United States\",\n",
        "  \"business_type\": \"industrial aluminum manufacturing and refining\"\n",
        "}\n",
        "\n",
        "chrome_deposit_corporation_casestudy = \"\"\"\n",
        "Chrome Deposit Corporation (CDC), a metal finishing company specializing in hard chrome plating and electro-discharge texturing, operates a facility in Newark, Delaware. Recognizing the energy-intensive nature of its operations, CDC partnered with the Delaware Manufacturing Extension Partnership (DEMEP), the University of Delaware’s Center for Energy and Environmental Policy, and the U.S. Department of Energy’s Industrial Technologies Program (ITP) to conduct an Energy Savings Assessment.​\n",
        "The assessment identified several opportunities for energy efficiency improvements. By implementing inexpensive and straightforward changes to infrastructure and operational processes, CDC achieved a 25% reduction in energy costs per unit. These measures not only minimized the company's environmental impact but also enhanced its energy management practices, all while allowing for continued operational growth.​\n",
        "Key initiatives included optimizing equipment usage, improving process controls, and fostering a culture of energy awareness among employees. The success of these efforts underscores the potential for small to medium-sized manufacturers to achieve significant energy savings through targeted assessments and collaborative partnerships.\n",
        "\"\"\"\n",
        "chrome_deposit_corporation_metadata = {\n",
        "  \"use_case\": \"high energy consumption in metal finishing operations\",\n",
        "  \"solution_type\": \"energy savings assessment and implementation of efficiency measures\",\n",
        "  \"impact\": \"25% reduction in energy costs per unit; enhanced energy management practices\",\n",
        "  \"estimated_savings\": \"significant annual cost savings with minimal investment\",\n",
        "  \"region\": \"Newark, Delaware, USA\",\n",
        "  \"business_type\": \"metal finishing and chrome plating\"\n",
        "}\n",
        "\n",
        "ccp_composites_casestudy = \"\"\"\n",
        "CCP Composites, a global leader in the production of gel coats and polyester resins, operates a synthetic resin manufacturing plant in Houston, Texas. Recognizing the escalating energy costs—which had more than doubled between 1998 and 2005 and accounted for about 20% of the plant’s operating budget by 2008—the company sought to improve energy efficiency.​\n",
        "\n",
        "In collaboration with the U.S. Department of Energy’s Industrial Technologies Program (ITP), CCP Composites implemented an energy management system conforming to ANSI/MSE 2000:2008 standards and SEP requirements. This system was integrated into the company's existing ISO 9001 (quality) and ISO 14001 (environmental) management frameworks.​\n",
        "\n",
        "Key actions included:​\n",
        "    Developing an energy management policy.​\n",
        "    Setting energy performance improvement objectives.​\n",
        "    Establishing an energy profile and baseline for the Houston site.​\n",
        "    Conducting self-audits and management reviews prior to third-party certification audits.​\n",
        "\n",
        "The major energy-consuming systems at the Houston plant included three hot oil boilers, a steam boiler, a thermal oxidizer, a compressed air plant, a chiller, and cooling water pumps.​\n",
        "\n",
        "As a result of these initiatives, CCP Composites achieved a 14% improvement in energy performance over two years, earning the SEP Gold certification. This accomplishment not only reduced energy costs but also established a proactive framework for ongoing energy management and performance improvement.​\n",
        "\"\"\"\n",
        "ccp_composites_metadata = {\n",
        "  \"use_case\": \"rising energy costs in synthetic resin manufacturing\",\n",
        "  \"solution_type\": \"implementation of an energy management system conforming to ANSI/MSE 2000:2008 and SEP requirements\",\n",
        "  \"impact\": \"14% improvement in energy performance over two years; SEP Gold certification achieved\",\n",
        "  \"estimated_savings\": \"significant reduction in energy costs, which had previously doubled between 1998 and 2005\",\n",
        "  \"region\": \"Houston, Texas, USA\",\n",
        "  \"business_type\": \"synthetic resin manufacturing for composites and coatings industry\"\n",
        "}\n",
        "\n",
        "eck_industries_casestudy = \"\"\"\n",
        "Eck Industries, Inc., an aluminum foundry located in Manitowoc, Wisconsin, undertook a comprehensive lighting retrofit to enhance energy efficiency within its 200,000-square-foot manufacturing facility. Collaborating with Wisconsin's Focus on Energy program, the company replaced approximately 360 high-pressure sodium (HPS) fixtures with energy-efficient T8 fluorescent bulbs.​\n",
        "\n",
        "This initiative led to a 46% reduction in the facility's lighting energy intensity. The project yielded annual operating savings exceeding $55,581 and achieved a payback period of approximately 8 months. To match these savings through increased sales, the company would have needed to generate an additional $1.39 million in revenue, considering a 4% pre-tax profit margin typical in the foundry industry.​\n",
        "NC Clean Energy Technology Center+3Digital Home Page+3ACerS Bulletin+3\n",
        "\n",
        "Beyond cost savings, the retrofit improved lighting quality, enhancing the working environment for employees. The success of this project underscores the potential benefits of energy efficiency initiatives in manufacturing settings, particularly when supported by state programs offering technical and financial assistance.\n",
        "\"\"\"\n",
        "eck_industries_metadata = {\n",
        "  \"use_case\": \"high energy consumption from outdated lighting systems in manufacturing facility\",\n",
        "  \"solution_type\": \"replacement of 360 high-pressure sodium fixtures with T8 fluorescent bulbs\",\n",
        "  \"impact\": \"46% reduction in lighting energy intensity; annual savings over $55,581; improved lighting quality\",\n",
        "  \"estimated_savings\": \"project payback period of approximately 8 months; equivalent to $1.39 million in additional sales to match savings\",\n",
        "  \"region\": \"Manitowoc, Wisconsin, USA\",\n",
        "  \"business_type\": \"aluminum foundry manufacturing\"\n",
        "}\n",
        "\n",
        "flambeau_river_casestudy = \"\"\"\n",
        "Flambeau River Papers, a historic paper mill in Park Falls, Wisconsin, faced closure in 2006 due to escalating energy costs and outdated equipment. Under new ownership, the mill implemented a comprehensive energy management strategy focusing on efficiency improvements and a transition to renewable energy sources.​\n",
        "\n",
        "Key Initiatives and Investments:\n",
        "    Invested $15 million in energy efficiency and alternative energy projects.​\n",
        "    Received $10 million in loans and matching funds from the U.S. Department of Energy and the state of Wisconsin.​\n",
        "    Collaborated with Focus on Energy and CleanTech Partners for technical support.​\n",
        "\n",
        "Energy Efficiency Measures:\n",
        "    Implemented hot water heat recovery systems and pipe rerouting.​\n",
        "    Upgraded steam systems and installed accumulator savings devices.​\n",
        "    Planned to eliminate coal usage by 2009, replacing it with biomass fuels such as pulp, bark, and logging residue.​\n",
        "\n",
        "Outcomes:\n",
        "    Achieved $10.5 million in cost savings over 3.5 years.​\n",
        "    Reduced fossil fuel energy consumption by 100% between 2007 and 2013 (projected).​\n",
        "    Decreased CO₂ emissions from 1 ton to 620 pounds per ton of paper produced.​\n",
        "    Increased paper production by 11.9% since 2006.​\n",
        "\n",
        "This transformation not only revitalized the mill but also contributed to the economic recovery of Park Falls, demonstrating the impact of strategic energy management in industrial settings.​\n",
        "\"\"\"\n",
        "flambeau_river_metadata = {\n",
        "  \"use_case\": \"high energy costs and outdated equipment leading to mill closure\",\n",
        "  \"solution_type\": \"comprehensive energy management strategy with efficiency improvements and renewable energy transition\",\n",
        "  \"impact\": \"achieved $10.5 million in cost savings; reduced CO₂ emissions by 69%; increased production by 11.9%\",\n",
        "  \"estimated_savings\": \"$2.6 million in annual energy savings; payback period of 5.25 years\",\n",
        "  \"region\": \"Park Falls, Wisconsin, USA\",\n",
        "  \"business_type\": \"paper manufacturing\"\n",
        "}\n",
        "\n",
        "freescale_semiconductor_casestudy = \"\"\"\n",
        "Freescale Semiconductor's Oak Hill Fab plant in Austin, Texas, successfully implemented an energy management system in accordance with ANSI/MSE 2000:2008 standards. This initiative was part of the U.S. Department of Energy's Industrial Technologies Program and aimed to enhance energy efficiency and reduce operational costs.​\n",
        "The Department of Energy's Energy.gov+3Energy Efficiency and Renewable Energy+3Energy Efficiency and Renewable Energy+3\n",
        "\n",
        "Key Achievements:\n",
        "    Energy Consumption Reduction: Between 2006 and 2009, the plant reduced its annual energy consumption by 28 million kilowatt-hours (kWh) of electricity and 26,000 million British thermal units (Btu) of natural gas.​\n",
        "    Cost Savings: These reductions translated into annual savings exceeding $2 million.​\n",
        "    Certification: The Oak Hill plant achieved Silver-level certification under the Superior Energy Performance (SEP) program, demonstrating its commitment to continuous energy performance improvement.​\n",
        "\n",
        "Implementation Strategy:\n",
        "    Integration with Existing Systems: The energy management system was integrated into the plant's existing Environmental, Health, and Safety Management System (EHSMS), which is based on ISO 14001 and OHSAS 18001 standards.​\n",
        "    Team Formation: A core engineering team comprising facilities, environmental, health, and safety staff was established to oversee the implementation.​\n",
        "    Energy Profile Development: An energy profile for the Oak Hill site was developed, and energy performance indicators were established to monitor progress.​\n",
        "    Training and Auditing: Staff received training on energy management practices, and the plant conducted self-audits and management reviews prior to third-party certification audits.\n",
        "\"\"\"\n",
        "freescale_semiconductor_metadata = {\n",
        "  \"use_case\": \"high energy consumption in semiconductor manufacturing\",\n",
        "  \"solution_type\": \"implementation of an energy management system conforming to ANSI/MSE 2000:2008 and SEP requirements\",\n",
        "  \"impact\": \"reduced annual energy consumption by 28 million kWh of electricity and 26,000 million Btu of natural gas; annual cost savings exceeding $2 million\",\n",
        "  \"estimated_savings\": \"over $2 million annually\",\n",
        "  \"region\": \"Austin, Texas, USA\",\n",
        "  \"business_type\": \"semiconductor manufacturing\"\n",
        "}\n",
        "\n",
        "harbec_plastics_casestudy = \"\"\"\n",
        "HARBEC Inc., a specialty plastics manufacturer in Ontario, New York, implemented a Combined Heat and Power (CHP) system and an energy management system conforming to ISO 50001 standards, achieving significant energy performance improvements and cost savings.​\n",
        "The Department of Energy's Energy.gov\n",
        "\n",
        "Key Initiatives and Achievements:\n",
        "    CHP System Implementation: Installed a CHP system comprising 25 microturbines with a total capacity of 750 kW and five heat exchangers. The system utilizes natural gas to generate electricity and captures waste heat for heating and cooling the facility via an absorption chiller. ​\n",
        "    Renewable Energy Integration: Complemented the CHP system with two onsite wind turbines (250 kW and 850 kW capacities), enabling the facility to generate over 75% of its electricity needs on-site. ​\n",
        "    Energy Management System (EnMS): Developed and implemented an EnMS aligned with ISO 50001, integrating it into the company's operations to monitor and improve energy performance continuously. ​\n",
        "    Superior Energy Performance (SEP) Certification: Achieved SEP Platinum certification by improving energy performance by 16.5% over three years, verified by a third-party audit. ​\n",
        "\n",
        "Financial Impact:\n",
        "    Investment: Total cost for implementing SEP and ISO 50001 was $127,000, covering EnMS development, technical assistance, monitoring equipment, and third-party audits. ​\n",
        "    The Department of Energy's Energy.gov+1The Department of Energy's Energy.gov+1\n",
        "    Annual Savings: Realized annual energy cost savings of $52,000 through operational improvements without capital investments. ​\n",
        "    The Department of Energy's Energy.gov+2The Department of Energy's Energy.gov+2The Department of Energy's Energy.gov+2\n",
        "    Payback Period: Achieved a payback period of 2.4 years for the SEP and ISO 50001 implementation costs. ​\n",
        "    The Department of Energy's Energy.gov+2The Department of Energy's Energy.gov+2The Department of Energy's Energy.gov+2\n",
        "\n",
        "Strategic Approach:\n",
        "HARBEC adopts an \"eco-economics\" philosophy, evaluating energy projects based on their ability to generate net positive cash flow over their lifetime rather than traditional payback periods. This approach has facilitated investments in energy efficiency and renewable energy projects, contributing to the company's goal of becoming carbon-neutral. ​\n",
        "\"\"\"\n",
        "harbec_plastics_metadata = {\n",
        "  \"use_case\": \"high energy costs and environmental impact in plastics manufacturing\",\n",
        "  \"solution_type\": \"implementation of CHP system and ISO 50001-compliant energy management system\",\n",
        "  \"impact\": \"16.5% improvement in energy performance over three years; SEP Platinum certification; over 75% of electricity generated on-site\",\n",
        "  \"estimated_savings\": \"$52,000 in annual energy cost savings; 2.4-year payback period on $127,000 investment\",\n",
        "  \"region\": \"Ontario, New York, USA\",\n",
        "  \"business_type\": \"specialty plastics manufacturing\"\n",
        "}\n",
        "\n",
        "ingersoll_rand_casestudy = \"\"\"\n",
        "Ingersoll Rand, a global industrial firm, implemented a comprehensive three-tiered internal energy audit program in 2005 to enhance energy efficiency across its manufacturing sites. This initiative aimed to reduce global energy intensity by 25% by 2019 and has led to significant cost savings and operational improvements.​\n",
        "\n",
        "Key Achievements:\n",
        "    Cost Savings: Since the inception of the program, Ingersoll Rand has saved over $4 million in energy costs.​\n",
        "    Audit Implementation: The program has been conducted at more than 75% of the company's manufacturing sites globally.​\n",
        "\n",
        "Three-Tiered Audit Structure:\n",
        "    Level 1 – Treasure Hunt:\n",
        "        Focuses on identifying low-cost energy-saving opportunities.\n",
        "        Engages site-based employee volunteers.\n",
        "        Targets behavioral changes and simple projects like fixing air leaks and adjusting temperature set-points.​\n",
        "    Level 2 – Expanded Energy Audit:\n",
        "        Involves a three-day site visit by a team of energy and engineering experts.\n",
        "        Examines energy-using equipment and processes.\n",
        "        Identifies projects suitable for Six Sigma or kaizen initiatives.​\n",
        "    Level 3 – Investment-Grade Audit:\n",
        "        Conducted by external consultants for large capital projects.\n",
        "        Provides detailed financial analysis and project implementation plans.​\n",
        "\n",
        "Strategic Partnerships and Support:\n",
        "    Collaborated with the U.S. Department of Energy's Industrial Technologies Program (ITP) and became a Save Energy Now LEADER in 2009.​\n",
        "    Received assessments from Industrial Assessment Centers (IACs), including those at the Georgia Institute of Technology.​\n",
        "    Worked with Oak Ridge National Laboratory (ORNL) to develop auditing tools tailored for specific systems, enhancing the capabilities of smaller sites to manage energy use.​\n",
        "\n",
        "Implementation Strategy:\n",
        "    Emphasized the business case for energy efficiency projects by evaluating capital costs, return on investment, and technical considerations.​\n",
        "    Utilized financial incentives from utilities and other sources to support projects with longer payback periods.​\n",
        "    Addressed challenges such as the invisibility of energy consumption and the need for corporate support by fostering a company-wide philosophy centered on energy efficiency, comfort, and safety.\n",
        "\"\"\"\n",
        "ingersoll_rand_metadata = {\n",
        "  \"use_case\": \"reducing energy consumption and costs across global manufacturing sites\",\n",
        "  \"solution_type\": \"implementation of a three-tiered internal energy audit program\",\n",
        "  \"impact\": \"saved over $4 million in energy costs; audits conducted at more than 75% of manufacturing sites\",\n",
        "  \"estimated_savings\": \"over $4 million since 2005\",\n",
        "  \"region\": \"global operations\",\n",
        "  \"business_type\": \"industrial manufacturing\"\n",
        "}\n",
        "\n",
        "minsouth_metalllurgical_casestudy = \"\"\"\n",
        "Mid-South Metallurgical, a commercial heat treating company in Murfreesboro, Tennessee, implemented several energy efficiency upgrades after an assessment by the U.S. Department of Energy’s Industrial Assessment Center at Tennessee Technological University. The facility operates 24 hours a day, 5.5 days a week, across three buildings totaling 21,000 square feet.\n",
        "\n",
        "Key improvements included:\n",
        "- Installing new furnace insulation.\n",
        "- Implementing an electrical demand management system.\n",
        "- Upgrading furnace burner tubes with energy-efficient equipment.\n",
        "- Replacing 44 outdated 400-watt metal halide fixtures with 88 new 8-foot fixtures using F32T8 fluorescent bulbs.\n",
        "\n",
        "Results achieved:\n",
        "- Overall energy use reduced by 22%.\n",
        "- Peak demand decreased by 21%.\n",
        "- Total energy costs lowered by 18%.\n",
        "- Annual electricity cost savings of approximately $53,000 from furnace insulation.\n",
        "- Natural gas usage reduced by 20% due to improved burner tubes.\n",
        "- Lighting operation and maintenance costs reduced by 52%.\n",
        "\n",
        "These measures not only enhanced energy efficiency but also contributed to significant cost savings for the company.\n",
        "\"\"\"\n",
        "minsouth_metalllurgical_metadata = {\n",
        "  \"use_case\": \"high energy costs in heat treating operations\",\n",
        "  \"solution_type\": \"furnace insulation, electrical demand management, burner tube upgrades, lighting retrofit\",\n",
        "  \"impact\": \"22% reduction in energy use, 21% reduction in peak demand, 18% reduction in energy costs\",\n",
        "  \"estimated_savings\": \"$53,000 annual electricity savings from furnace insulation; 20% reduction in natural gas usage; 52% reduction in lighting operation and maintenance costs\",\n",
        "  \"region\": \"Murfreesboro, Tennessee, USA\",\n",
        "  \"business_type\": \"commercial heat treating\"\n",
        "}\n",
        "\n",
        "nissan_casestudy = \"\"\"\n",
        "Nissan Motor Company, a global automotive manufacturer, implemented a comprehensive energy management program across its three U.S. manufacturing facilities located in Smyrna and Decherd, Tennessee, and Canton, Mississippi. Through partnerships with the U.S. Department of Energy's Industrial Technologies Program (ITP) and the Environmental Protection Agency's ENERGY STAR® program, Nissan focused on instilling a company-wide culture of energy efficiency.\n",
        "\n",
        "Key initiatives included:\n",
        "- Upgrading and replacing chillers.\n",
        "- Implementing variable-frequency drives.\n",
        "- Reducing the number of air compressors.\n",
        "- Installing sub-metering and monitoring systems.\n",
        "- Upgrading lighting and controls.\n",
        "- Enhancing air recirculation systems.\n",
        "\n",
        "These measures led to:\n",
        "- A reduction in overall energy consumption by more than 30%.\n",
        "- Annual energy cost savings exceeding $11.5 million.\n",
        "\n",
        "Nissan's commitment to energy efficiency is further demonstrated by its pledge to reduce energy intensity by 2.5% annually as a Save Energy Now LEADER. The company also hosted the first Save Energy Now LEADER Industrial Sustainability and Energy Management Showcase at its Smyrna facility, sharing best practices with over 100 attendees, including industry peers and government officials.\n",
        "\"\"\"\n",
        "nissan_metadata = {\n",
        "  \"use_case\": \"reducing energy consumption and costs in automotive manufacturing\",\n",
        "  \"solution_type\": \"implementation of comprehensive energy management program including equipment upgrades and process improvements\",\n",
        "  \"impact\": \"over 30% reduction in energy consumption; annual energy cost savings exceeding $11.5 million\",\n",
        "  \"estimated_savings\": \"more than $11.5 million annually\",\n",
        "  \"region\": \"Smyrna and Decherd, Tennessee; Canton, Mississippi, USA\",\n",
        "  \"business_type\": \"automotive manufacturing\"\n",
        "}\n",
        "\n",
        "owens_corning_casestudy = \"\"\"\n",
        "The article discusses the energy efficiency initiatives implemented at the Owens Corning plant in Santa Clara, California, with the help of the U.S. Department of Energy’s (DOE) Industrial Technologies Program (ITP) and financial incentives from Silicon Valley Power (SVP).\n",
        "\n",
        "The initiatives included assessments of pumping, fan, and compressed air systems using DOE software tools, leading to upgrades such as installing variable frequency drives (VFDs) on fans and upgrading a large compressor. These efforts resulted in annual energy cost savings of $252,000 for the Santa Clara plant. SVP's rebates, totaling approximately $251,000, played a crucial role in making these projects financially viable, with an overall simple payback period of 1.3 years. The partnership between Owens Corning, DOE, and SVP demonstrates how strategic relationships and financial incentives can drive significant energy savings in industrial facilities.\n",
        "\"\"\"\n",
        "owens_corning_metadata = {\n",
        "  \"use_case\": \"improving energy efficiency in an industrial plant\",\n",
        "  \"solution_type\": \"assessments of systems and equipment upgrades (VFDs, compressor)\",\n",
        "  \"impact\": \"annual energy cost savings of $252,000\",\n",
        "  \"estimated_savings\": \"$252,000 annually\",\n",
        "  \"region\": \"Santa Clara, California, USA\",\n",
        "  \"business_type\": \"industrial manufacturing\"\n",
        "}\n",
        "\n",
        "shaw_industries_casestudy = \"\"\"\n",
        "The case study details how Shaw Industries' Plant #20 in Dalton, Georgia, enhanced its steam system efficiency through a Save Energy Now assessment. The U.S. Department of Energy (DOE) conducted the assessment, revealing opportunities for energy savings and validating the plant's existing energy management practices.\n",
        "\n",
        "Key improvements included:\n",
        "- Optimizing boiler sequencing\n",
        "- Installing waste heat exchangers\n",
        "- Adding an economizer to a boiler\n",
        "\n",
        "These measures led to:\n",
        "- Annual energy cost savings of $872,000\n",
        "- Savings equivalent to 93,000 MMBtu in natural gas and No. 6 fuel oil.\n",
        "- A simple payback period of 1.7 years on project costs of approximately $1.5 million.\n",
        "\n",
        "The success of this initiative prompted Shaw Industries to replicate the process at its other facilities.\n",
        "\"\"\"\n",
        "shaw_industries_metadata = {\n",
        "  \"use_case\": \"improving steam system efficiency in an industrial plant\",\n",
        "  \"solution_type\": \"steam system assessment and implementation of energy-saving measures\",\n",
        "  \"impact\": \"annual energy cost savings of $872,000, savings equivalent to 93,000 MMBtu\",\n",
        "  \"estimated_savings\": \"$872,000 annually\",\n",
        "  \"region\": \"Dalton, Georgia, USA\",\n",
        "  \"business_type\": \"industrial manufacturing\"\n",
        "}\n",
        "\n",
        "solutia_casestudy = \"\"\"\n",
        "        The case study focuses on how Solutia, Inc. implemented sub-metering across its 24 worldwide manufacturing plants to achieve its sustainability goals, particularly reducing energy intensity.\n",
        "\n",
        "        Key aspects of Solutia's approach include:\n",
        "        - Installing sub-meters to measure electricity, steam, and natural gas flow.\n",
        "        - Utilizing data management software for collecting and analyzing energy consumption data.\n",
        "        - Using sub-metering data to inform decision-making, maintenance, and equipment selection.\n",
        "\n",
        "        A specific example at Solutia’s Trenton, Michigan, plant showed that:\n",
        "        - A $1,500 sub-meter identified an inefficient air compressor.\n",
        "        - Operational changes based on the sub-meter data led to annual electricity cost savings of $19,000.\n",
        "\n",
        "        Solutia's experience demonstrates the effectiveness of data-driven approaches in improving energy efficiency and reducing costs.\n",
        "\"\"\"\n",
        "solutia_metadata = {\n",
        "  \"use_case\": \"reducing energy intensity through sub-metering\",\n",
        "  \"solution_type\": \"installation and utilization of sub-meters and data management software\",\n",
        "  \"impact\": \"improved energy efficiency and cost savings\",\n",
        "  \"estimated_savings\": \"$19,000 annually at the Trenton plant example\",\n",
        "  \"region\": \"worldwide (example: Trenton, Michigan, USA)\",\n",
        "  \"business_type\": \"manufacturing\"\n",
        "}\n",
        "\n",
        "volvo_casestudy = \"\"\"The Volvo Trucks New River Valley (NRV) plant aimed to reduce overall energy consumption by 25% in one year. They partnered with the Industrial Technologies Program (ITP) and established an energy committee to encourage employee engagement.\n",
        "\n",
        "Specific energy-saving projects and their impacts included:\n",
        "\n",
        "* **Temperature Reduction:** Turning down the building temperature by 5 degrees resulted in monthly savings of 500,000 kWh and approximately $30,000 in electricity costs.\n",
        "* **Loading Dock Lights:** Turning off outside loading dock lights at night saved the plant 20,160 kWh each month and $1,200 in monthly electricity costs.\n",
        "* **Radiant Heating System:** Installing a high-efficiency radiant heating system in the shipping building reduced natural gas usage by 80% and saved 70,000 kWh annually, with a payback period of 2.5 years.\n",
        "\n",
        "These projects contributed to annual energy savings of over $400,000 and a reduction in annual electricity use by more than 7 gigawatt hours.\n",
        "\"\"\"\n",
        "volvo_metadata = {\n",
        "  \"use_case\": \"achieving energy and carbon reduction goals in truck manufacturing\",\n",
        "  \"solution_type\": \"energy assessments, employee engagement, and implementation of energy-saving projects\",\n",
        "  \"impact\": \"25% reduction in energy consumption in one year, over $400,000 annual energy savings, reduction in annual electricity use by more than 7 gigawatt hours\",\n",
        "  \"estimated_savings\": \"over $400,000 annually\",\n",
        "  \"region\": \"Dublin, Virginia, USA\",\n",
        "  \"business_type\": \"truck manufacturing\"\n",
        "}\n",
        "\n",
        "\n",
        "energy_cases.append(alcoa_casestudy)\n",
        "energy_cases.append(chrome_deposit_corporation_casestudy)\n",
        "energy_cases.append(ccp_composites_casestudy)\n",
        "energy_cases.append(eck_industries_casestudy)\n",
        "energy_cases.append(flambeau_river_casestudy)\n",
        "energy_cases.append(freescale_semiconductor_casestudy)\n",
        "energy_cases.append(harbec_plastics_casestudy)\n",
        "energy_cases.append(ingersoll_rand_casestudy)\n",
        "energy_cases.append(minsouth_metalllurgical_casestudy)\n",
        "energy_cases.append(nissan_casestudy)\n",
        "energy_cases.append(owens_corning_casestudy)\n",
        "energy_cases.append(shaw_industries_casestudy)\n",
        "energy_cases.append(solutia_casestudy)\n",
        "energy_cases.append(volvo_casestudy)\n",
        "\n",
        "energy_metadata.append(alcoa_metadata)\n",
        "energy_metadata.append(chrome_deposit_corporation_metadata)\n",
        "energy_metadata.append(ccp_composites_metadata)\n",
        "energy_metadata.append(eck_industries_metadata)\n",
        "energy_metadata.append(flambeau_river_metadata)\n",
        "energy_metadata.append(freescale_semiconductor_metadata)\n",
        "energy_metadata.append(harbec_plastics_metadata)\n",
        "energy_metadata.append(ingersoll_rand_metadata)\n",
        "energy_metadata.append(minsouth_metalllurgical_metadata)\n",
        "energy_metadata.append(nissan_metadata)\n",
        "energy_metadata.append(owens_corning_metadata)\n",
        "energy_metadata.append(shaw_industries_metadata)\n",
        "energy_metadata.append(solutia_metadata)\n",
        "energy_metadata.append(volvo_metadata)"
      ],
      "metadata": {
        "id": "FAIMY1sniyht"
      },
      "execution_count": null,
      "outputs": []
    },
    {
      "cell_type": "markdown",
      "source": [
        "Steam Case"
      ],
      "metadata": {
        "id": "MubOHngCxvoY"
      }
    },
    {
      "cell_type": "code",
      "source": [
        "boise_inc_casestudy = \"\"\"\n",
        "This article discusses how Boise Inc.'s St. Helens paper mill achieved significant fuel savings through a U.S. Department of Energy (DOE) Save Energy Now assessment. The assessment, conducted by DOE Energy Expert David Morgan, aimed to identify natural gas savings opportunities in the mill's steam system. The assessment team used DOE's steam system software tools to analyze plant data and identify potential energy-saving measures.\n",
        "\n",
        "The assessment validated some measures that were already under consideration, such as lowering the oxygen content on boiler stacks and recovering waste heat from the whitewater process. It also uncovered additional savings opportunities, including repairing a malfunctioning heat exchanger, improving boiler efficiency, and insulating a blow tank. The mill implemented several near-term measures, including lowering package boiler stack O2 levels and recovering waste heat, and identified a new opportunity to reduce steam supplied to a parasitic load.\n",
        "\n",
        "As a result, the mill achieved annual energy cost savings of more than $1 million and fuel savings of approximately 154,000 MMBtu. The implementation costs were around $31,000, resulting in a simple payback of less than one month. The findings and results were shared with other Boise Inc. paper mills in the United States. The article emphasizes the value of independent evaluations and the use of DOE software tools in identifying energy-saving opportunities in industrial steam systems.\n",
        "\"\"\"\n",
        "boise_inc_metadata = {\n",
        "  \"use_case\": \"achieving fuel savings in a paper mill's steam system\",\n",
        "  \"solution_type\": \"steam system assessment and implementation of energy-saving measures\",\n",
        "  \"impact\": \"annual energy cost savings of more than $1 million and fuel savings of approximately 154,000 MMBtu\",\n",
        "  \"estimated_savings\": \"more than $1 million annually\",\n",
        "  \"region\": \"St. Helens, USA\",\n",
        "  \"business_type\": \"paper mill\"\n",
        "}\n",
        "\n",
        "chrysler_save_energy_now = \"\"\"\n",
        "A comprehensive energy assessment was conducted at Chrysler's St. Louis Assembly Complex under the auspices of the U.S. Department of Energy's Save Energy Now initiative. The primary objective of this assessment was to identify and implement measures to reduce natural gas consumption within the facility's steam system.\n",
        "\n",
        "The assessment process involved a detailed analysis of boiler operations, flue gas composition, and steam trap functionality. Based on the findings, several key recommendations were implemented, including the optimization of boiler sequencing and combustion controls, the reduction of excess oxygen in flue gases, and the establishment of a proactive steam trap maintenance program.\n",
        "\n",
        "The implementation of these measures resulted in significant energy savings. The St. Louis Assembly Complex achieved an annual reduction in energy consumption exceeding 70,000 MMBtu, yielding annual cost savings of approximately $627,000. The total investment in these energy efficiency upgrades was recouped within a period of slightly over two months. The success of this project has led to the adoption of similar energy management strategies across other Chrysler manufacturing facilities.\n",
        "\"\"\"\n",
        "chrysler_save_energy_now_metadata = {\n",
        "  \"use_case\": \"achieving natural gas savings through a plant energy assessment\",\n",
        "  \"solution_type\": \"steam system analysis and implementation of energy-saving measures\",\n",
        "  \"impact\": \"annual energy savings exceeding 70,000 MMBtu and annual cost savings of approximately $627,000\",\n",
        "  \"estimated_savings\": \"approximately $627,000 annually\",\n",
        "  \"region\": \"St. Louis, USA\",\n",
        "  \"business_type\": \"automotive assembly\"\n",
        "}\n",
        "\n",
        "dow_chemical_casestudy = \"\"\"\n",
        "This case study details how Dow Chemical Company's St. Charles Operations petrochemical plant in Hahnville, Louisiana, achieved substantial energy savings through a Save Energy Now energy assessment. The assessment, conducted by a U.S. Department of Energy (DOE) Energy Expert, targeted natural gas savings within the plant's steam system.\n",
        "\n",
        "The assessment identified several opportunities to enhance steam system efficiency, notably repairing steam leaks and malfunctioning steam traps. Implementing these short-term measures resulted in annual natural gas savings of 272,000 MMBtu and cost savings of $1.9 million. This project boasted a remarkably short payback period of approximately six weeks.\n",
        "\n",
        "Furthermore, the assessment highlighted medium-term opportunities, such as installing a blowdown heat recovery exchanger and preheating reactor feed with 75-psig steam, which promise further energy and cost reductions. The DOE's Steam System Assessment Tool (SSAT) played a crucial role in quantifying potential savings and motivating the plant to implement these improvements. The success of these initiatives has led to the establishment of ongoing steam trap maintenance and leak management programs at the St. Charles plant.\n",
        "\"\"\"\n",
        "dow_chemical_metadata = {\n",
        "  \"use_case\": \"achieving natural gas savings in a petrochemical plant's steam system\",\n",
        "  \"solution_type\": \"steam system assessment and implementation of energy-saving measures\",\n",
        "  \"impact\": \"annual natural gas savings of 272,000 MMBtu and cost savings of $1.9 million\",\n",
        "  \"estimated_savings\": \"$1.9 million annually\",\n",
        "  \"region\": \"Hahnville, Louisiana, USA\",\n",
        "  \"business_type\": \"petrochemical plant\"\n",
        "}\n",
        "\n",
        "goodyear_casestudy = \"\"\"\n",
        "This case study details how Goodyear's tire plant in Union City, Tennessee, achieved significant energy savings through a Save Energy Now assessment conducted by the U.S. Department of Energy (DOE). The assessment focused on the plant's steam system, identifying opportunities to improve efficiency and reduce energy consumption.\n",
        "\n",
        "The key initiatives included optimizing boiler operation and load management, and insulating process equipment. By implementing these recommendations, Goodyear reduced natural gas use by 93,000 MMBtu and No. 6 fuel oil consumption by 224,000 gallons, resulting in annual energy cost savings of approximately $875,000. The project had a simple payback period of just 2.5 months, demonstrating the cost-effectiveness of the energy-saving measures. The success of this assessment has prompted Goodyear to share these energy-saving recommendations with its other facilities.\n",
        "\"\"\"\n",
        "goodyear_metadata = {\n",
        "  \"use_case\": \"achieving energy savings in a tire plant's steam system\",\n",
        "  \"solution_type\": \"steam system assessment and implementation of energy-saving measures\",\n",
        "  \"impact\": \"reduced natural gas use by 93,000 MMBtu and No. 6 fuel oil consumption by 224,000 gallons, resulting in annual energy cost savings of approximately $875,000\",\n",
        "  \"estimated_savings\": \"approximately $875,000 annually\",\n",
        "  \"region\": \"Union City, Tennessee, USA\",\n",
        "  \"business_type\": \"tire manufacturing\"\n",
        "}\n",
        "\n",
        "jr_simplot_casestudy = \"\"\"\n",
        "This case study discusses how J.R. Simplot Company improved the efficiency of its steam system at a potato processing plant in Caldwell, Idaho, leading to significant energy and cost savings.\n",
        "\n",
        "The project, based on an evaluation using the Steam System Assessment Tool (SSAT), involved upgrading burners and burner control systems. This resulted in annual savings of 52,000 MMBtu of natural gas and 526,000 kWh of electricity, totaling $329,000. The project achieved a simple payback of less than 14 months.\n",
        "\n",
        "Following the success at the Caldwell facility, Simplot implemented similar measures at eight other facilities, yielding additional natural gas savings. The company also mandated the use of SSAT for evaluating steam systems across all its production facilities. The case study highlights the effectiveness of using a uniform methodology and tool for optimizing industrial steam systems.\n",
        "\"\"\"\n",
        "jr_simplot_metadata = {\n",
        "    \"use_case\": \"Improving steam system efficiency in a food processing plant\",\n",
        "    \"solution_type\": \"Upgrading burners and burner control systems\",\n",
        "    \"impact\": \"Reduced energy consumption and cost\",\n",
        "    \"estimated_savings\": \"$329,000 per year at the Caldwell plant, plus additional savings from replicating the project at other facilities\",\n",
        "    \"region\": \"Caldwell, Idaho, United States\",\n",
        "    \"business_type\": \"Food processing (potato processing plant)\"\n",
        "}\n",
        "\n",
        "westlinn_paper_casestudy =  \"\"\"\n",
        "This case study details how West Linn Paper Company, the oldest active paper mill in the western United States (located in Oregon), achieved significant natural gas savings through a Save Energy Now assessment conducted by the U.S. Department of Energy (DOE). The assessment focused on improving the efficiency of the mill's steam system, which is critical for drying paper and powering papermaking machines.\n",
        "\n",
        "By implementing key recommendations, including connecting separate steam headers, adjusting boiler controls, and repairing steam traps, the mill achieved annual natural gas savings of approximately 58,200 MMBtu, resulting in annual cost savings of $379,000. Furthermore, the assessment empowered plant employees with the knowledge to analyze their steam processes and identify future energy-saving opportunities. The mill's daily production is nearly 700 tons of coated paper. Since improving steam system efficiency, the mill's energy use declined from 7,500 to 5,200 lbs/ton of paper and production increased by 40%. The project had a payback period of under 6 months. At the time of the assessment, the steam system generated approximately 166,000 lbs/hour at 200 psig.\n",
        "\"\"\"\n",
        "westlinn_paper_metadata = {\n",
        "  \"use_case\": \"improving steam system efficiency in a paper mill\",\n",
        "  \"solution_type\": \"steam system assessment and implementation of energy-saving measures\",\n",
        "  \"impact\": \"annual natural gas savings of approximately 58,200 MMBtu, annual cost savings of $379,000\",\n",
        "  \"estimated_savings\": \"approximately $379,000 annually\",\n",
        "  \"region\": \"West Linn, Oregon, USA\",\n",
        "  \"business_type\": \"paper mill\"\n",
        "}\n",
        "\n",
        "jr_simplot_steam_casestudy = \"\"\"\n",
        "This case study focuses on how J.R. Simplot Company's Don Plant in Pocatello, Idaho, optimized its steam system efficiency following a U.S. Department of Energy (DOE) Save Energy Now assessment in 2006. The assessment, led by DOE Energy Expert Bill Moir, utilized DOE's Steam System Assessment Tool (SSAT) software to pinpoint multiple energy-saving opportunities.\n",
        "\n",
        "By implementing recommendations such as optimizing boiler operation, improving condensate recovery, and repairing steam traps and leaks, the plant achieved significant energy savings. These measures led to annual cost savings of $335,000 and energy savings exceeding 75,000 MMBtu. The project, costing $180,000, had a simple payback period of approximately 6.5 months.\n",
        "\n",
        "The success of these initial improvements spurred the plant to investigate further energy-saving measures and share their insights with other J.R. Simplot facilities.\n",
        "\"\"\"\n",
        "jr_simplot_steam_metadata = {\n",
        "  \"use_case\": \"optimizing steam system efficiency in a fertilizer plant\",\n",
        "  \"solution_type\": \"steam system assessment and implementation of energy-saving measures\",\n",
        "  \"impact\": \"annual cost savings of $335,000 and energy savings of more than 75,000 MMBtu\",\n",
        "  \"estimated_savings\": \"$335,000 annually\",\n",
        "  \"region\": \"Pocatello, Idaho, USA\",\n",
        "  \"business_type\": \"fertilizer plant\"\n",
        "}\n",
        "\n",
        "terra_nitrogen_casestudy = \"\"\"\n",
        "This case study details how Terra Nitrogen Company, L.P., achieved significant natural gas savings at its ammonia and fertilizer plant in Verdigris, Oklahoma, following a U.S. Department of Energy (DOE) Save Energy Now assessment. The assessment, conducted by a DOE Energy Expert, identified opportunities to enhance the plant's steam system efficiency.\n",
        "\n",
        "Key improvements included:\n",
        "- Upgrading steam-powered turbines\n",
        "- Modifying an ammonia condensing loop\n",
        "- Repairing steam traps and leaks\n",
        "\n",
        "These measures resulted in annual natural gas savings of 497,000 MMBtu and approximately $3.5 million in cost savings. The company shared the assessment results with three other U.S. plants owned by its parent company.\n",
        "\"\"\"\n",
        "terra_nitrogen_metadata = {\n",
        "  \"use_case\": \"reduction of natural gas consumption in an ammonia plant's steam system\",\n",
        "  \"solution_type\": \"upgrading steam turbines, modifying an ammonia condensing loop, and repairing steam traps and leaks\",\n",
        "  \"impact\": \"annual natural gas savings of 497,000 MMBtu\",\n",
        "  \"estimated_savings\": \"approximately $3.5 million annually\",\n",
        "  \"region\": \"Verdigris, Oklahoma, USA\",\n",
        "  \"business_type\": \"manufacturer of nitrogen fertilizer products\"\n",
        "}\n",
        "\n",
        "energy_cases.append(boise_inc_casestudy)\n",
        "energy_cases.append(chrysler_save_energy_now)\n",
        "energy_cases.append(dow_chemical_casestudy)\n",
        "energy_cases.append(goodyear_casestudy)\n",
        "energy_cases.append(jr_simplot_casestudy)\n",
        "energy_cases.append(westlinn_paper_casestudy)\n",
        "energy_cases.append(jr_simplot_steam_casestudy)\n",
        "energy_cases.append(terra_nitrogen_casestudy)\n",
        "\n",
        "energy_metadata.append(boise_inc_metadata)\n",
        "energy_metadata.append(chrysler_save_energy_now_metadata)\n",
        "energy_metadata.append(dow_chemical_metadata)\n",
        "energy_metadata.append(goodyear_metadata)\n",
        "energy_metadata.append(jr_simplot_metadata)\n",
        "energy_metadata.append(westlinn_paper_metadata)\n",
        "energy_metadata.append(jr_simplot_steam_metadata)\n",
        "energy_metadata.append(terra_nitrogen_metadata)"
      ],
      "metadata": {
        "id": "EX7yh8Mmxz4Z"
      },
      "execution_count": null,
      "outputs": []
    },
    {
      "cell_type": "code",
      "source": [
        "energy_case_metadata = []\n",
        "energy_case_id = []\n",
        "for energy_case in energy_cases:\n",
        "  energy_case_metadata.append({\n",
        "        \"purpose\": \"case_study\",\n",
        "        \"domain\": \"inventory\",\n",
        "  })\n",
        "  energy_case_id.append(str(uuid.uuid4()))\n",
        "\n",
        "energy_collection.add(\n",
        "  documents=energy_cases,\n",
        "  metadatas=energy_case_metadata,\n",
        "  ids=energy_case_id)"
      ],
      "metadata": {
        "id": "sjLehpfV76w-"
      },
      "execution_count": null,
      "outputs": []
    },
    {
      "cell_type": "markdown",
      "source": [
        "### --- Energy Case Studies ---"
      ],
      "metadata": {
        "id": "avGtS33t8uue"
      }
    },
    {
      "cell_type": "code",
      "source": [
        "kaiser_aluminum = '''\n",
        "This case study discusses how a U.S. Department of Energy-sponsored (DOE) Save Energy Now assessment helped Kaiser Aluminum improve energy efficiency and productivity at its aluminum extrusion plant in Sherman, Texas. The assessment, conducted in 2006, utilized DOE's Process Heating Assessment and Survey Tool (PHAST) software to analyze the plant's process heating systems.\n",
        "\n",
        "The assessment focused on identifying opportunities to improve furnace efficiency and reduce heat loss in the process heating applications of secondary aluminum plants. The solutions implemented included adjusting burner controls on a reverberatory melting furnace to lower excess oxygen levels and repairing the furnace's door sill and jamb to prevent cold air infiltration.\n",
        "\n",
        "Implementing these measures resulted in significant natural gas savings, improved furnace energy intensity, and enhanced production. The plant achieved annual energy savings of approximately 45,000 MMBtu and improved the furnace's energy intensity by 11.1% between 2006 and 2007. The energy cost savings amounted to $360,000, with a simple payback period of less than 1 month.\n",
        "'''\n",
        "lean_dna = '''\n",
        "This case study discusses how LeanDNA helped a leading aerospace manufacturer reduce inventory costs and improve supply chain efficiency. The manufacturer, struggling with labor-intensive Excel spreadsheets to manage their supply chain activities after a major SAP implementation, sought a solution to streamline operations and reduce inventory.\n",
        "\n",
        "LeanDNA was implemented and provided pre-built dashboards that visualized data from SAP, offering insights into inventory improvement opportunities. This allowed the manufacturer to focus on high-impact initiatives, reducing inventory and working capital. The solution enhanced visibility across different sites and ERP systems, consolidating data into a single view.\n",
        "'''\n",
        "hvac_system = \"\"\"\n",
        "In modern building operations, HVAC systems play a critical role in ensuring occupant comfort and energy efficiency. A recent study published in *Energy and Buildings* examines the tangible benefits of HVAC system cleaning, focusing on how routine maintenance impacts energy consumption and supply airflow.\n",
        "\n",
        "The research explores real-world scenarios where HVAC systems were subject to systematic cleaning procedures. Results indicated measurable improvements in energy efficiency and airflow consistency, supporting the hypothesis that neglected systems often operate suboptimally. Clean components such as coils and ducts contribute to reduced fan power demand and better thermal performance.\n",
        "\n",
        "This study reinforces the value of preventive maintenance, not only as a means of prolonging equipment lifespan but also as a viable strategy for enhancing sustainability in commercial and residential buildings. Facilities managers and energy engineers are encouraged to integrate cleaning into standard operational protocols to achieve long-term energy savings and improved indoor air quality.\n",
        "\"\"\"\n",
        "\n",
        "energy_collection.add(\n",
        "    documents = [kaiser_aluminum, lean_dna, hvac_system],\n",
        "    metadatas = [\n",
        "        {\"purpose\": \"case_study\", \"domain\": \"inventory\"},\n",
        "        {\"purpose\": \"case_study\", \"domain\": \"inventory\"},\n",
        "        {\"purpose\": \"case_study\", \"domain\": \"energy\"}\n",
        "    ],\n",
        "    ids = [\n",
        "        str(uuid.uuid4()),\n",
        "        str(uuid.uuid4()),\n",
        "        str(uuid.uuid4())\n",
        "    ]\n",
        ")\n",
        "\n",
        "\n"
      ],
      "metadata": {
        "id": "NbwSsM1c8zqH"
      },
      "execution_count": null,
      "outputs": []
    },
    {
      "cell_type": "markdown",
      "source": [
        "### Run a similarity search: example code"
      ],
      "metadata": {
        "id": "05HpBExnJs7t"
      }
    },
    {
      "cell_type": "code",
      "source": [
        "# Swtich to query mode\n",
        "embed_fn.document_mode = False\n",
        "\n",
        "# Define query\n",
        "query = \"How can I reduce food waste in my restaurant?\"\n",
        "\n",
        "# Search\n",
        "results = inventory_collection.query(\n",
        "    query_texts=[query],\n",
        "    n_results=2\n",
        ")\n",
        "\n",
        "# Display results\n",
        "for i, doc in enumerate(results[\"documents\"][0]):\n",
        "    print(f\"🔍 Match {i+1}: {doc}\")\n",
        "    print(f\"📄 Metadata: {results['metadatas'][0][i]}\")\n",
        "    print(\"-\" * 60)"
      ],
      "metadata": {
        "trusted": true,
        "jupyter": {
          "source_hidden": true
        },
        "id": "Irh_FnY6Js74"
      },
      "outputs": [],
      "execution_count": null
    },
    {
      "cell_type": "markdown",
      "source": [
        "## -- LangGraph Workflow Overview --"
      ],
      "metadata": {
        "id": "3vmFNt_6Js74"
      }
    },
    {
      "cell_type": "code",
      "source": [
        "# [🔁 LangGraph Agent Workflow]\n",
        "#    ├── 🧭 Node 1: Classifier\n",
        "#    │     → Classifies user input as:\n",
        "#    │        • Inventory Waste\n",
        "#    │        • Energy Inefficiency\n",
        "#    │        • Default / No Issue\n",
        "#    │\n",
        "#    ├── 📂 Node 2: RAG Retriever – Energy Inefficiency\n",
        "#    │     → Retrieves similar energy cases, cost metrics, solution examples from ChromaDB\n",
        "#    │\n",
        "#    ├── 📦 Node 3: RAG Retriever – Inventory Waste\n",
        "#    │     → Retrieves similar inventory cases, benchmarks, inefficiency insights from ChromaDB\n",
        "#    │\n",
        "#    ├── 💸 Node 4: Inaction Cost Estimator\n",
        "#    │     → Estimates the financial cost of not addressing the identified inefficiency\n",
        "#    │        (based on retrieved case data + heuristics)\n",
        "#    │\n",
        "#    ├── 🛠️ Node 5: Solution Generator\n",
        "#    │     → Recommends cost-effective, high-ROI interventions aligned with SDGs\n",
        "#    │     → (Optional) Uses RAG to refine suggestions\n",
        "#    │\n",
        "#    ├── 🧾 Node 6: Final Report Composer\n",
        "#    │     → Generates structured business-facing report:\n",
        "#    │        Problem → Cost of Inaction → Solutions → ROI\n",
        "#    │\n",
        "#    ├── 📊 Node 7: Metrics & Performance Generator [Default Case]\n",
        "#    │     → If no inefficiency is found:\n",
        "#    │        Calculates current operational performance and business metrics\n",
        "#    │\n",
        "#    └── 📋 Node 8: Alternative Report Composer [Default Case]\n",
        "#          → Generates a report with:\n",
        "#             • Current benefits\n",
        "#             • Key performance indicators\n",
        "#             • Strategic outlook and future potential\n"
      ],
      "metadata": {
        "trusted": true,
        "id": "eTkSGaywJs74"
      },
      "outputs": [],
      "execution_count": null
    },
    {
      "cell_type": "markdown",
      "source": [
        "### --- Define Structure ---"
      ],
      "metadata": {
        "id": "olGkSYNoJs75"
      }
    },
    {
      "cell_type": "code",
      "source": [
        "class AgentState(TypedDict):\n",
        "    input: str\n",
        "    issue_type: Optional[Literal[\"inventory\", \"energy\", \"default\"]]\n",
        "    retrieved_docs: Optional[Dict[str, List[Document]]]\n",
        "    inaction_summary: Optional[str]\n",
        "    solutions: Optional[str]\n",
        "    report: Optional[str]"
      ],
      "metadata": {
        "trusted": true,
        "execution": {
          "iopub.status.busy": "2025-04-15T00:03:21.155993Z",
          "iopub.execute_input": "2025-04-15T00:03:21.156384Z",
          "iopub.status.idle": "2025-04-15T00:03:21.160647Z",
          "shell.execute_reply.started": "2025-04-15T00:03:21.15636Z",
          "shell.execute_reply": "2025-04-15T00:03:21.159926Z"
        },
        "id": "Z6aMP9jRJs75"
      },
      "outputs": [],
      "execution_count": null
    },
    {
      "cell_type": "code",
      "source": [
        "# Initialize the graph where we'll register our nodes\n",
        "workflow = StateGraph(AgentState)"
      ],
      "metadata": {
        "trusted": true,
        "execution": {
          "iopub.status.busy": "2025-04-15T00:03:24.311907Z",
          "iopub.execute_input": "2025-04-15T00:03:24.312154Z",
          "iopub.status.idle": "2025-04-15T00:03:24.31599Z",
          "shell.execute_reply.started": "2025-04-15T00:03:24.312137Z",
          "shell.execute_reply": "2025-04-15T00:03:24.315192Z"
        },
        "id": "P1ie44_IJs75"
      },
      "outputs": [],
      "execution_count": null
    },
    {
      "cell_type": "code",
      "source": [
        "# Function for effectively querying the DB\n",
        "def retrieve_similar_cases(query: str, database, client, purposes: List[str] = [\"case_study\", \"cost_estimates\", \"solution\", \"mixed\"], domain: str = None, top_k: int = 5):\n",
        "    embed_query = GeminiEmbeddingFunction(client=client, document_mode=False)\n",
        "    query_embedding = embed_query([query])[0]\n",
        "\n",
        "    results = {}\n",
        "\n",
        "    for purpose in purposes:\n",
        "        filter_dict = {\n",
        "            \"$and\": [\n",
        "                {\"purpose\": \"cost_estimates\"},\n",
        "                {\"domain\": \"energy\"}\n",
        "            ]\n",
        "        }\n",
        "        results = database.query(\n",
        "            query_embeddings=[query_embedding],\n",
        "            n_results=top_k,\n",
        "            where=filter_dict,\n",
        "            include=[\"documents\", \"metadatas\"]\n",
        "        )\n",
        "\n",
        "        # Store as list of LangChain Documents\n",
        "        docs = [\n",
        "            Document(page_content=doc, metadata=meta)\n",
        "            for doc, meta in zip(results[\"documents\"][0], results[\"metadatas\"][0])\n",
        "        ]\n",
        "        results[purpose] = docs\n",
        "\n",
        "    return results\n"
      ],
      "metadata": {
        "id": "NbV08sC3E5dC"
      },
      "execution_count": null,
      "outputs": []
    },
    {
      "cell_type": "markdown",
      "source": [
        "### --- Define Agent Nodes ---\n",
        "#### ---- Classifier ----\n",
        "Identifies the business inefficiency category from user input (inventory waste, energy inefficiency, or none). Routes the request accordingly."
      ],
      "metadata": {
        "id": "wpNcr_93Js75"
      }
    },
    {
      "cell_type": "code",
      "source": [
        "input_prompt = PromptTemplate.from_template(\"\"\"\n",
        "You are a business analyst that helps identify problems in energy efficiency and inventory mismanagement that could be costing the business.\n",
        "\n",
        "Based on the given business profile and question from the owner, please identify the problem\n",
        "Identify the issue as either:\n",
        "- \"energy\": when the main problem faced by the business is related to energy consumption, heating/cooling systems, lighting, electricity, etc.\n",
        "- \"inventory\": when the main business problem comes from issues related to stock, storage, waste, overstock, ordering, losses, inventory tracking, etc.\n",
        "- \"default\": if the business seems to be in a good standing\n",
        "\n",
        "Only output one word: \"energy\", \"inventory\", or \"default\"\n",
        "\n",
        "Business profile and user input:\n",
        "{input}\n",
        "\"\"\")"
      ],
      "metadata": {
        "trusted": true,
        "id": "743ZDOEUJs76"
      },
      "outputs": [],
      "execution_count": null
    },
    {
      "cell_type": "code",
      "source": [
        "llm = ChatGoogleGenerativeAI(model=\"gemini-2.0-flash\")"
      ],
      "metadata": {
        "trusted": true,
        "execution": {
          "iopub.status.busy": "2025-04-15T00:12:52.781114Z",
          "iopub.execute_input": "2025-04-15T00:12:52.781351Z",
          "iopub.status.idle": "2025-04-15T00:13:01.832447Z",
          "shell.execute_reply.started": "2025-04-15T00:12:52.781335Z",
          "shell.execute_reply": "2025-04-15T00:13:01.831667Z"
        },
        "id": "k7t3G3SlJs76"
      },
      "outputs": [],
      "execution_count": null
    },
    {
      "cell_type": "code",
      "source": [
        "# Node 1: Classifier\n",
        "def classifier(state: AgentState) -> AgentState:\n",
        "    # Format the prompt using the user's input\n",
        "    formatted_prompt = input_prompt.format(input=state[\"input\"])\n",
        "    result = llm.invoke(formatted_prompt)\n",
        "    issue_type = result.content.strip().lower()\n",
        "\n",
        "    # Sanity check (fallback)\n",
        "    if issue_type not in [\"energy\", \"inventory\", \"default\"]:\n",
        "        issue_type = \"default\"\n",
        "\n",
        "    return {**state, \"issue_type\": issue_type}\n"
      ],
      "metadata": {
        "trusted": true,
        "execution": {
          "iopub.status.busy": "2025-04-15T00:13:03.088595Z",
          "iopub.execute_input": "2025-04-15T00:13:03.08884Z",
          "iopub.status.idle": "2025-04-15T00:13:03.092476Z",
          "shell.execute_reply.started": "2025-04-15T00:13:03.088827Z",
          "shell.execute_reply": "2025-04-15T00:13:03.091985Z"
        },
        "id": "olTUsWEkJs76"
      },
      "outputs": [],
      "execution_count": null
    },
    {
      "cell_type": "markdown",
      "source": [
        "#### ---- RAG for Energy ----\n",
        "Retrieves relevant documents from ChromaDB:\n",
        "> Energy cases → efficiency benchmarks, inaction examples"
      ],
      "metadata": {
        "id": "OR2jhZmdJs77"
      }
    },
    {
      "cell_type": "code",
      "source": [
        "# Node 2: RAG Retriever for Energy\n",
        "def retrieve_energy_docs(state: AgentState) -> AgentState:\n",
        "    if state[\"issue_type\"] != \"energy\":\n",
        "        return state\n",
        "\n",
        "    query = state[\"input\"]\n",
        "    results = retrieve_similar_cases(\n",
        "        query=query,\n",
        "        database=energy_collection,\n",
        "        client=client,\n",
        "        domain=\"energy\"\n",
        "    )\n",
        "\n",
        "    return {**state, \"retrieved_docs\": results}"
      ],
      "metadata": {
        "trusted": true,
        "id": "TRA6rKlwJs77"
      },
      "outputs": [],
      "execution_count": null
    },
    {
      "cell_type": "markdown",
      "source": [
        "#### ---- RAG for Inventory ----\n",
        "Retrieves relevant documents from ChromaDB:\n",
        "> Inventory cases → waste metrics, intervention results"
      ],
      "metadata": {
        "id": "TBUP7rKOJs77"
      }
    },
    {
      "cell_type": "code",
      "source": [
        "# Node 3: RAG Retriever for Inventory\n",
        "def retrieve_inventory_docs(state: AgentState) -> AgentState:\n",
        "    if state[\"issue_type\"] != \"inventory\":\n",
        "        return state\n",
        "\n",
        "    query = state[\"input\"]\n",
        "    results = retrieve_similar_cases(\n",
        "        query=query,\n",
        "        database=inventory_collection,\n",
        "        client=client,\n",
        "        domain=\"inventory\"\n",
        "    )\n",
        "\n",
        "    return {**state, \"retrieved_docs\": results}"
      ],
      "metadata": {
        "trusted": true,
        "id": "yySww3YuJs77"
      },
      "outputs": [],
      "execution_count": null
    },
    {
      "cell_type": "markdown",
      "source": [
        "#### ---- Cost of Inaction Estimator ----\n",
        "Predicts monetary loss associated with not addressing the inefficiency, using analogies from similar past cases and embedded metadata."
      ],
      "metadata": {
        "id": "scqYWaxeJs78"
      }
    },
    {
      "cell_type": "code",
      "source": [
        "# Define a structured output schema\n",
        "class InactionCost(BaseModel):\n",
        "    estimated_loss: str = Field(description=\"Estimated Loss\")\n",
        "    contributing_factors: List[str] = Field(description=\"Contributing Factors\")\n",
        "    summary: str = Field(description=\"Summary\")"
      ],
      "metadata": {
        "trusted": true,
        "id": "Ll67bK2YJs78"
      },
      "outputs": [],
      "execution_count": null
    },
    {
      "cell_type": "code",
      "source": [
        "inaction_prompt_template = PromptTemplate.from_template(\"\"\"\n",
        "You are a cost analyst for sustainability inefficiencies. Your goal is to help businesses quantify the financial risk of inefficiencies.\n",
        "\n",
        "Given the following user input and retrieved case examples,\n",
        "- Estimate the potential financial loss or operational impact (dollar value) of **not taking action** and letting the inefficiency continue\n",
        "- Identify key contributing factors\n",
        "- Write a 1-paragraph natural language summary about the operational impact\n",
        "\n",
        "User Input:\n",
        "{user_input}\n",
        "\n",
        "Retrieved Case Summaries:\n",
        "{docs}\n",
        "\"\"\")"
      ],
      "metadata": {
        "trusted": true,
        "id": "HyGbKiHmJs78"
      },
      "outputs": [],
      "execution_count": null
    },
    {
      "cell_type": "code",
      "source": [
        "structured_llm = llm.with_structured_output(InactionCost)"
      ],
      "metadata": {
        "trusted": true,
        "id": "RfBs7gQbJs78"
      },
      "outputs": [],
      "execution_count": null
    },
    {
      "cell_type": "code",
      "source": [
        "def estimate_inaction_cost(state: AgentState) -> AgentState:\n",
        "    user_input = state[\"input\"]\n",
        "    retrieved = state.get(\"retrieved_docs\", {})\n",
        "    cost_estimate_docs = retrieved.get(\"cost_estimates\", [])\n",
        "\n",
        "    if cost_estimate_docs:\n",
        "        doc_texts = \"\\n\\n\".join([doc.page_content for doc in cost_estimate_docs])\n",
        "    else:\n",
        "        doc_texts = \"No cost-estimate cases were found in the database.\"\n",
        "\n",
        "    prompt = inaction_prompt_template.format(\n",
        "        user_input=user_input,\n",
        "        docs=doc_texts\n",
        "    )\n",
        "\n",
        "    inaction_summary = structured_llm.invoke(prompt)\n",
        "\n",
        "    return {**state, \"inaction_summary\": inaction_summary}"
      ],
      "metadata": {
        "trusted": true,
        "id": "gouTzrJZJs79"
      },
      "outputs": [],
      "execution_count": null
    },
    {
      "cell_type": "markdown",
      "source": [
        "#### ---- Solution Generator ----\n",
        "Recommends tailored, SDG-aligned, and actionable interventions. Focuses on those with proven ROI and potential business uplift."
      ],
      "metadata": {
        "id": "5kHvTY7EJs79"
      }
    },
    {
      "cell_type": "code",
      "source": [
        "# Define structured output schema\n",
        "class SolutionRecommendation(BaseModel):\n",
        "    strategies: List[str] = Field(description=\"Strategies\")\n",
        "    justification: str = Field(description=\"Justification\")\n",
        "    benefits: str = Field(description=\"Benefits\")\n",
        "    sdg_alignment: str = Field(description=\"Alignment with SDGs\")"
      ],
      "metadata": {
        "trusted": true,
        "id": "4julV6JcJs79"
      },
      "outputs": [],
      "execution_count": null
    },
    {
      "cell_type": "code",
      "source": [
        "solution_prompt_template = PromptTemplate.from_template(\"\"\"\n",
        "You are an expert sustainability advisor for operational inefficiencies and best business practices.\n",
        "\n",
        "Based on the business profile, the operational inefficiency identified, the relevant information retrieved, recommend **high-impact, cost-effective strategies** for solving the problem.\n",
        "Solutions should be tailored to the business.\n",
        "\n",
        "Respond with:\n",
        "- 3 to 5 specific strategies and a description\n",
        "- Why it's effectice (evidence, explanation, or retrieved example)\n",
        "- List the potential financial gains or operational impact, in estimated dollar $ value, as well as estimated benefits (financial, operational, economic, and environmental) and/or ROI\n",
        "- Relevant SDG (Sustainable Development Goals) alignment (if applicable) (an explanation)\n",
        "\n",
        "## Business Profile:\n",
        "{business_profile}\n",
        "\n",
        "## Inefficiency:\n",
        "{issue_type}\n",
        "\n",
        "Retrieved knowledge:\n",
        "{docs}\n",
        "\"\"\")\n"
      ],
      "metadata": {
        "trusted": true,
        "id": "lZpc3fOFJs7-"
      },
      "outputs": [],
      "execution_count": null
    },
    {
      "cell_type": "code",
      "source": [
        "structured_solution_llm = llm.with_structured_output(SolutionRecommendation)"
      ],
      "metadata": {
        "trusted": true,
        "id": "ttaYIO5NJs7-"
      },
      "outputs": [],
      "execution_count": null
    },
    {
      "cell_type": "code",
      "source": [
        "# Node 5: Solution Generator\n",
        "def generate_solutions(state: AgentState) -> AgentState:\n",
        "    business_profile = state[\"input\"]\n",
        "    issue_type = state[\"issue_type\"]\n",
        "    user_input = state[\"input\"]\n",
        "    docs = state.get(\"retrieved_docs\", [])\n",
        "    cost_estimate_docs = docs.get(\"solution\", [])\n",
        "\n",
        "    doc_texts = \"\\n\\n\".join([doc.page_content for doc in cost_estimate_docs])\n",
        "\n",
        "    prompt = solution_prompt_template.format(\n",
        "        user_input=user_input,\n",
        "        business_profile=business_profile,\n",
        "        issue_type=issue_type,\n",
        "        docs=doc_texts\n",
        "    )\n",
        "\n",
        "    result = structured_solution_llm.invoke(prompt)\n",
        "\n",
        "    return {**state, \"solutions\": result}"
      ],
      "metadata": {
        "trusted": true,
        "id": "taAA7OjTJs7_"
      },
      "outputs": [],
      "execution_count": null
    },
    {
      "cell_type": "markdown",
      "source": [
        "#### ---- Final Report Composer ----\n",
        "Crafts a concise, structured report highlighting:\n",
        "- Identified problem\n",
        "- Estimated cost of inaction\n",
        "- Recommended interventions\n",
        "- Expected ROI and benefits"
      ],
      "metadata": {
        "id": "ciShNfwQJs7_"
      }
    },
    {
      "cell_type": "code",
      "source": [
        "def compose_final_report(state: AgentState) -> AgentState:\n",
        "    # Extract and format input summary\n",
        "    user_input = state[\"input\"]\n",
        "    if isinstance(user_input, dict):  # structured input\n",
        "        input_summary = \"\\n\".join([f\"- **{format_key(k)}:** {format_value(v)}\" for k, v in user_input.items()])\n",
        "    else:\n",
        "        input_summary = user_input.strip()\n",
        "\n",
        "    # Clean report sections\n",
        "    estimated_loss = state['inaction_summary'].estimated_loss.strip()\n",
        "    contributing_factors = \"\\n\".join([f\"   - {factor.strip()}\" for factor in state['inaction_summary'].contributing_factors])\n",
        "    impact_summary = state['inaction_summary'].summary.strip()\n",
        "\n",
        "    strategies = \"\\n\".join([f\"- {s.strip()}\" for s in state['solutions'].strategies])\n",
        "    benefits = state['solutions'].benefits.strip()\n",
        "    justification = state['solutions'].justification.strip()\n",
        "    sdgs = state['solutions'].sdg_alignment.strip()\n",
        "\n",
        "    # Compose final  report\n",
        "    report = f\"\"\"Efficiency Report\n",
        "\n",
        "Problem Type: {state['issue_type'].capitalize()}\n",
        "\n",
        "📋 Business Input Summary:\n",
        "\n",
        "{user_input}\n",
        "\n",
        "---\n",
        "\n",
        "🔍 Estimated Cost of Inaction\n",
        "\n",
        "- Estimated Loss: {estimated_loss}\n",
        "- Contributing Factors:\n",
        "{contributing_factors}\n",
        "\n",
        "Impact Summary:\n",
        "{impact_summary}\n",
        "\n",
        "---\n",
        "\n",
        "✅ Recommended Solutions\n",
        "\n",
        "Top Strategies:\n",
        "{strategies}\n",
        "\n",
        "Expected Benefits:\n",
        "{benefits}\n",
        "\n",
        "Justification:\n",
        "{justification}\n",
        "\n",
        "Alignment with SDGs:\n",
        "{sdgs}\n",
        "\"\"\"\n",
        "\n",
        "    return {**state, \"report\": report}\n"
      ],
      "metadata": {
        "trusted": true,
        "id": "rj4kFUfFJs7_"
      },
      "outputs": [],
      "execution_count": null
    },
    {
      "cell_type": "markdown",
      "source": [
        "### --- Performance & Metrics Generator ---\n",
        "Calculates current strengths and metrics of the business (e.g., turnover rate, waste %, energy use benchmarks)."
      ],
      "metadata": {
        "id": "g2x0uatlnAR_"
      }
    },
    {
      "cell_type": "code",
      "source": [
        "# Define structured output schema\n",
        "class PerformanceGeneration(BaseModel):\n",
        "    benefits: List[str] = Field(description=\"Benefits\")\n",
        "    metrics: str = Field(description=\"Metrics & Business Performance\")\n",
        "    outlook: str = Field(description=\"Outlook\")"
      ],
      "metadata": {
        "id": "TK_v3W2_nEbC"
      },
      "execution_count": null,
      "outputs": []
    },
    {
      "cell_type": "code",
      "source": [
        "performance_generation_prompt_template = PromptTemplate.from_template(\"\"\"\n",
        "You are an expert sustainability advisor for operational inefficiencies and best business practices.\n",
        "\n",
        "Based on the business profile, the operational inefficiency identified, the relevant information retrieved, recommend **high-impact, cost-effective strategies** for solving the problem.\n",
        "Solutions should be tailored to the business.\n",
        "\n",
        "Respond with:\n",
        "- Estimated benefits stemming from current inventory optimization & energy consumption (financial, operational, economic, and environmental) (in dollar value)\n",
        "- Current business metrics & performance (from business profile, and knowledge of similar businesses)\n",
        "- Future Outlook (an explanation on why so)\n",
        "\n",
        "## Business Profile:\n",
        "{structured_input}\n",
        "\n",
        "\"\"\")"
      ],
      "metadata": {
        "id": "Bt_-lS_xn48i"
      },
      "execution_count": null,
      "outputs": []
    },
    {
      "cell_type": "code",
      "source": [
        "performance_metrics_llm = llm.with_structured_output(PerformanceGeneration)"
      ],
      "metadata": {
        "id": "6kFUPSLepSqZ"
      },
      "execution_count": null,
      "outputs": []
    },
    {
      "cell_type": "code",
      "source": [
        "# Node 7: Performance & Metrics Generator\n",
        "def generate_performance_metrics(state: AgentState) -> AgentState:\n",
        "    user_input = state[\"input\"]\n",
        "\n",
        "    prompt = performance_generation_prompt_template.format(\n",
        "        user_input=user_input,\n",
        "    )\n",
        "\n",
        "    result = performance_metrics_llm.invoke(prompt)\n",
        "\n",
        "    return {**state, \"performance_metrics\": result}"
      ],
      "metadata": {
        "id": "N9LQg5s4pmsx"
      },
      "execution_count": null,
      "outputs": []
    },
    {
      "cell_type": "markdown",
      "source": [
        "### --- Alternate Report Composer ---\n",
        "Produces a future-oriented report even when no major inefficiency is detected, emphasizing current operational health and future scaling insights."
      ],
      "metadata": {
        "id": "ebOE25Y0qblp"
      }
    },
    {
      "cell_type": "code",
      "source": [
        "def compose_alternate_report(state: AgentState) -> AgentState:\n",
        "    report = f\"\"\"\n",
        "    # Efficiency Report\n",
        "\n",
        "    **Problem Type:**  All Good!!!\n",
        "    **Input Summary:** {state['input']}\n",
        "\n",
        "    ---\n",
        "\n",
        "    ## ✅ Estimated Benefits from current inventory optimization & energy consumption\n",
        "    {chr(10).join(f\"  - {benefit}\" for benefit in state['performance_metrics'].benefits)}\n",
        "\n",
        "    ---\n",
        "\n",
        "    ## 📈 Metrics & Business Performance\n",
        "    {state['performance_metrics'].metrics}\n",
        "\n",
        "    ---\n",
        "\n",
        "    ## 🔮 Future Outlook\n",
        "    {state['performance_metrics'].outlook}\n",
        "    \"\"\"\n",
        "\n",
        "    return {**state, \"report\": report}"
      ],
      "metadata": {
        "id": "8fxtzFtTqzBj"
      },
      "execution_count": null,
      "outputs": []
    },
    {
      "cell_type": "markdown",
      "source": [
        "### --- Branching Logic for Retrieval Nodes ---"
      ],
      "metadata": {
        "id": "bjHE_ux_Js8A"
      }
    },
    {
      "cell_type": "code",
      "source": [
        "# Add nodes to the graph object\n",
        "workflow.add_node(\"classifier\", classifier)\n",
        "workflow.add_node(\"energy_retriever\", retrieve_energy_docs)\n",
        "workflow.add_node(\"inventory_retriever\", retrieve_inventory_docs)\n",
        "workflow.add_node(\"cost_estimator\", estimate_inaction_cost)\n",
        "workflow.add_node(\"solution_generator\", generate_solutions)\n",
        "workflow.add_node(\"report_composer\", compose_final_report)\n",
        "\n",
        "workflow.add_node(\"performance_generator\", generate_performance_metrics)\n",
        "workflow.add_node(\"alternate_report_composer\", compose_alternate_report)"
      ],
      "metadata": {
        "trusted": true,
        "id": "CF_UfUueJs8A"
      },
      "outputs": [],
      "execution_count": null
    },
    {
      "cell_type": "code",
      "source": [
        "def route_retriever(state: AgentState) -> str:\n",
        "    if state[\"issue_type\"] == \"energy\":\n",
        "        return \"energy_retriever\"\n",
        "    elif state[\"issue_type\"] == \"inventory\":\n",
        "        return \"inventory_retriever\"\n",
        "    else:\n",
        "        return \"default\""
      ],
      "metadata": {
        "trusted": true,
        "id": "sNAi7Hr1Js8A"
      },
      "outputs": [],
      "execution_count": null
    },
    {
      "cell_type": "code",
      "source": [
        "# Add conditional branch routing after classifier\n",
        "workflow.add_conditional_edges(\n",
        "    \"classifier\",\n",
        "    route_retriever,\n",
        "    {\n",
        "        \"energy_retriever\": \"energy_retriever\",\n",
        "        \"inventory_retriever\": \"inventory_retriever\",\n",
        "        \"default\": \"performance_generator\"\n",
        "    }\n",
        ")"
      ],
      "metadata": {
        "trusted": true,
        "id": "yL5bmYZMJs8A"
      },
      "outputs": [],
      "execution_count": null
    },
    {
      "cell_type": "code",
      "source": [
        "# Define fixed edges between remaining nodes\n",
        "workflow.add_edge(START, \"classifier\")\n",
        "workflow.add_edge(\"energy_retriever\", \"cost_estimator\")\n",
        "workflow.add_edge(\"inventory_retriever\", \"cost_estimator\")\n",
        "workflow.add_edge(\"cost_estimator\", \"solution_generator\")\n",
        "workflow.add_edge(\"solution_generator\", \"report_composer\")\n",
        "workflow.add_edge(\"report_composer\", END)\n",
        "\n",
        "workflow.add_edge(\"performance_generator\", \"alternate_report_composer\")\n",
        "workflow.add_edge(\"alternate_report_composer\", END)"
      ],
      "metadata": {
        "trusted": true,
        "id": "kOMIRogGJs8B"
      },
      "outputs": [],
      "execution_count": null
    },
    {
      "cell_type": "markdown",
      "source": [
        "## -- Running the Full Pipeline --"
      ],
      "metadata": {
        "id": "7Qh3FdG4Js8B"
      }
    },
    {
      "cell_type": "code",
      "source": [
        "app = workflow.compile()"
      ],
      "metadata": {
        "trusted": true,
        "id": "vtXYl_6VJs8B"
      },
      "outputs": [],
      "execution_count": null
    },
    {
      "cell_type": "markdown",
      "source": [
        "### --- Input ---\n",
        "The user provides:\n",
        "- A structured business profile (industry, size, energy usage, etc.)\n",
        "- A natural language description of operations or goals\n"
      ],
      "metadata": {
        "id": "X7qQpKoGJs7f"
      }
    },
    {
      "cell_type": "code",
      "source": [
        "# Example input 1\n",
        "business_name = \"EcoPrint Manufacturing Co.\"\n",
        "industry = \"Light Manufacturing – Sustainable Packaging\"\n",
        "location = \"Mississauga, Canada\"\n",
        "annual_revenue = \"$5,800,000\"\n",
        "number_of_employees = 42\n",
        "physical_space_type = \"mid-size industrial facility\"\n",
        "has_online_sales = False\n",
        "inventory_management_method = \"ERP system\"\n",
        "inventory_turnover_frequency = \"monthly\"\n",
        "energy_systems = {\n",
        "    \"heating\": \"natural gas unit heaters\",\n",
        "    \"cooling\": \"none\",\n",
        "    \"lighting\": \"fluorescent tubes across the floor\",\n",
        "    \"automation\": \"basic motion sensors in offices only\"\n",
        "}\n",
        "monthly_energy_cost = \"$7,600\"\n",
        "existing_sustainability_practices = [\"waste separation\", \"recycled paper sourcing\"]\n",
        "\n",
        "user_prompt = (\n",
        "    \"We manufacture custom biodegradable packaging. Our machines run long hours and our energy bills are massive—especially during the winter. \"\n",
        "    \"Most of our lighting is outdated and stays on all day across the warehouse floor. \"\n",
        "    \"We’d like to explore ways to optimize energy usage and get better visibility into where our waste is happening.\"\n",
        ")\n"
      ],
      "metadata": {
        "id": "oy4o7CLSFELs"
      },
      "execution_count": null,
      "outputs": []
    },
    {
      "cell_type": "code",
      "source": [
        "business_schema = f\"\"\"\n",
        "- Business Name: {business_name}\n",
        "- Industry: {industry}\n",
        "- Location: {location}\n",
        "- Annual Revenue: {annual_revenue}\n",
        "- Number of Employees: {number_of_employees}\n",
        "- Physical Space Type: {physical_space_type}\n",
        "- Online Presence: {has_online_sales}\n",
        "- Inventory Management Method: {inventory_management_method}\n",
        "- Inventory Turnover Frequency: {inventory_turnover_frequency}\n",
        "- Energy Systems: {energy_systems}\n",
        "- Monthly Energy Costs: {monthly_energy_cost}\n",
        "- Existing Sustainability Practices: {existing_sustainability_practices}\n",
        "- Question from Business Owner: {user_prompt}\n",
        "\"\"\""
      ],
      "metadata": {
        "trusted": true,
        "execution": {
          "iopub.status.busy": "2025-04-14T11:45:21.451746Z",
          "iopub.execute_input": "2025-04-14T11:45:21.452662Z",
          "iopub.status.idle": "2025-04-14T11:45:21.457815Z",
          "shell.execute_reply.started": "2025-04-14T11:45:21.452614Z",
          "shell.execute_reply": "2025-04-14T11:45:21.456967Z"
        },
        "id": "VwvwvP_lJs7i"
      },
      "outputs": [],
      "execution_count": null
    },
    {
      "cell_type": "code",
      "source": [
        "# Example 1\n",
        "result = app.invoke({\"input\": business_schema})\n",
        "print(result[\"report\"])\n",
        "\n"
      ],
      "metadata": {
        "trusted": true,
        "id": "ncY5PuOIJs8B"
      },
      "outputs": [],
      "execution_count": null
    },
    {
      "cell_type": "code",
      "source": [
        "# Example Input 2\n",
        "business_name = \"Bottle & Cork Wine Merchants\"\n",
        "industry = \"Retail – Specialty Liquor\"\n",
        "location = \"Vancouver, Canada\"\n",
        "annual_revenue = \"$2,400,000\"\n",
        "number_of_employees = 10\n",
        "physical_space_type = \"retail storefront with on-site storage\"\n",
        "has_online_sales = True\n",
        "inventory_management_method = \"manual spreadsheet\"\n",
        "inventory_turnover_frequency = \"quarterly\"\n",
        "energy_systems = {\n",
        "    \"heating\": \"electric baseboard\",\n",
        "    \"cooling\": \"central A/C\",\n",
        "    \"lighting\": \"halogen\",\n",
        "    \"automation\": \"none\"\n",
        "}\n",
        "monthly_energy_cost = \"$950\"\n",
        "existing_sustainability_practices = [\"glass bottle recycling\", \"LED signs in entrance\"]\n",
        "\n",
        "user_prompt = (\n",
        "    \"We’ve been noticing a lot of product waste—seasonal wines that don’t sell in time, \"\n",
        "    \"and some bottles even spoil on the shelf. We manually update inventory, so sometimes items get missed. \"\n",
        "    \"We want to reduce waste and improve our shelf planning. We also think our lighting might be driving up energy costs.\"\n",
        ")\n"
      ],
      "metadata": {
        "id": "Tq-4QLGYF2-k"
      },
      "execution_count": null,
      "outputs": []
    },
    {
      "cell_type": "code",
      "source": [
        "business_schema = f\"\"\"\n",
        "- Business Name: {business_name}\n",
        "- Industry: {industry}\n",
        "- Location: {location}\n",
        "- Annual Revenue: {annual_revenue}\n",
        "- Number of Employees: {number_of_employees}\n",
        "- Physical Space Type: {physical_space_type}\n",
        "- Online Presence: {has_online_sales}\n",
        "- Inventory Management Method: {inventory_management_method}\n",
        "- Inventory Turnover Frequency: {inventory_turnover_frequency}\n",
        "- Energy Systems: {energy_systems}\n",
        "- Monthly Energy Costs: {monthly_energy_cost}\n",
        "- Existing Sustainability Practices: {existing_sustainability_practices}\n",
        "- Question from Business Owner: {user_prompt}\n",
        "\"\"\""
      ],
      "metadata": {
        "id": "H8ebd21XTclJ"
      },
      "execution_count": null,
      "outputs": []
    },
    {
      "cell_type": "code",
      "source": [
        "# Example 2\n",
        "result = app.invoke({\"input\": business_schema})\n",
        "print(result[\"report\"])"
      ],
      "metadata": {
        "id": "qMAyAdZAFwFV"
      },
      "execution_count": null,
      "outputs": []
    },
    {
      "cell_type": "markdown",
      "source": [
        "## Conclusion\n",
        "\n",
        "This advisory tool helps businesses assess operational inefficiencies not just as technical problems, but as financially and socially impactful issues. By quantifying the cost of inaction and aligning solutions with SDGs, it bridges sustainability and strategy.\n"
      ],
      "metadata": {
        "id": "X5XyidfnJs8C"
      }
    }
  ]
}